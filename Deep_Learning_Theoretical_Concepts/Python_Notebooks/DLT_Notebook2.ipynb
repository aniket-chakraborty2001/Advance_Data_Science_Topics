{
  "nbformat": 4,
  "nbformat_minor": 0,
  "metadata": {
    "colab": {
      "provenance": []
    },
    "kernelspec": {
      "name": "python3",
      "display_name": "Python 3"
    },
    "language_info": {
      "name": "python"
    }
  },
  "cells": [
    {
      "cell_type": "code",
      "execution_count": 2,
      "metadata": {
        "id": "T_FyvsaDYqZ_"
      },
      "outputs": [],
      "source": [
        "import tensorflow as tf"
      ]
    },
    {
      "cell_type": "code",
      "source": [
        "# Checking version\n",
        "tf.__version__"
      ],
      "metadata": {
        "colab": {
          "base_uri": "https://localhost:8080/",
          "height": 36
        },
        "id": "IULHeWjRYvZQ",
        "outputId": "20bcf9ac-bc72-4f21-9977-0a246f6bdd48"
      },
      "execution_count": 3,
      "outputs": [
        {
          "output_type": "execute_result",
          "data": {
            "text/plain": [
              "'2.15.0'"
            ],
            "application/vnd.google.colaboratory.intrinsic+json": {
              "type": "string"
            }
          },
          "metadata": {},
          "execution_count": 3
        }
      ]
    },
    {
      "cell_type": "code",
      "source": [
        "# Constructing a constant tensor\n",
        "T = tf.constant([[[74, 128], [79, 116], [71, 116]],\n",
        "              [[78, 118], [82, 124], [72, 128]],\n",
        "              [[84, 138], [84, 130], [74, 120]],\n",
        "              [[82, 126], [76, 156], [82, 132]]])\n",
        "print(T.shape)\n",
        "print(T) # It is a (3*2) object repreating 4 times"
      ],
      "metadata": {
        "colab": {
          "base_uri": "https://localhost:8080/"
        },
        "id": "LgxOa8JCY-nl",
        "outputId": "f6c47324-d347-49b8-bbff-fc304e2b2631"
      },
      "execution_count": 7,
      "outputs": [
        {
          "output_type": "stream",
          "name": "stdout",
          "text": [
            "(4, 3, 2)\n",
            "tf.Tensor(\n",
            "[[[ 74 128]\n",
            "  [ 79 116]\n",
            "  [ 71 116]]\n",
            "\n",
            " [[ 78 118]\n",
            "  [ 82 124]\n",
            "  [ 72 128]]\n",
            "\n",
            " [[ 84 138]\n",
            "  [ 84 130]\n",
            "  [ 74 120]]\n",
            "\n",
            " [[ 82 126]\n",
            "  [ 76 156]\n",
            "  [ 82 132]]], shape=(4, 3, 2), dtype=int32)\n"
          ]
        }
      ]
    },
    {
      "cell_type": "code",
      "source": [
        "# Transposing this tensor\n",
        "T_tran = tf.transpose(T, perm = [1,0,2])\n",
        "print(T_tran.shape) # It is a (4*2) object repeating 3 times\n",
        "print(T_tran)"
      ],
      "metadata": {
        "colab": {
          "base_uri": "https://localhost:8080/"
        },
        "id": "MZGARATJZ3d7",
        "outputId": "a96bed9c-600e-4b9a-9a7a-9d03a27e63a5"
      },
      "execution_count": 10,
      "outputs": [
        {
          "output_type": "stream",
          "name": "stdout",
          "text": [
            "(3, 4, 2)\n",
            "tf.Tensor(\n",
            "[[[ 74 128]\n",
            "  [ 78 118]\n",
            "  [ 84 138]\n",
            "  [ 82 126]]\n",
            "\n",
            " [[ 79 116]\n",
            "  [ 82 124]\n",
            "  [ 84 130]\n",
            "  [ 76 156]]\n",
            "\n",
            " [[ 71 116]\n",
            "  [ 72 128]\n",
            "  [ 74 120]\n",
            "  [ 82 132]]], shape=(3, 4, 2), dtype=int32)\n"
          ]
        }
      ]
    },
    {
      "cell_type": "code",
      "source": [
        "# Using Reduce_sum on T_Tran\n",
        "T_sum0 = tf.reduce_sum(T_tran, axis = 0)\n",
        "T_sum0\n",
        "# The first element of T_sum0 is sum of first entries of each (4*2) object"
      ],
      "metadata": {
        "colab": {
          "base_uri": "https://localhost:8080/"
        },
        "id": "cNWbYJdSbEW2",
        "outputId": "201049c4-d8fd-4f22-c205-bc439d806d58"
      },
      "execution_count": 12,
      "outputs": [
        {
          "output_type": "execute_result",
          "data": {
            "text/plain": [
              "<tf.Tensor: shape=(4, 2), dtype=int32, numpy=\n",
              "array([[224, 360],\n",
              "       [232, 370],\n",
              "       [242, 388],\n",
              "       [240, 414]], dtype=int32)>"
            ]
          },
          "metadata": {},
          "execution_count": 12
        }
      ]
    },
    {
      "cell_type": "code",
      "source": [
        "print(T_tran.shape)\n",
        "print(T_tran)"
      ],
      "metadata": {
        "colab": {
          "base_uri": "https://localhost:8080/"
        },
        "id": "9Svs6UNHfTOi",
        "outputId": "ab473b1e-ce16-4584-aadc-408ec33d016f"
      },
      "execution_count": 14,
      "outputs": [
        {
          "output_type": "stream",
          "name": "stdout",
          "text": [
            "(3, 4, 2)\n",
            "tf.Tensor(\n",
            "[[[ 74 128]\n",
            "  [ 78 118]\n",
            "  [ 84 138]\n",
            "  [ 82 126]]\n",
            "\n",
            " [[ 79 116]\n",
            "  [ 82 124]\n",
            "  [ 84 130]\n",
            "  [ 76 156]]\n",
            "\n",
            " [[ 71 116]\n",
            "  [ 72 128]\n",
            "  [ 74 120]\n",
            "  [ 82 132]]], shape=(3, 4, 2), dtype=int32)\n"
          ]
        }
      ]
    },
    {
      "cell_type": "code",
      "source": [
        "# Mean of T_tran\n",
        "T_mean0 = tf.reduce_mean(T_tran, axis = 0)\n",
        "T_mean0"
      ],
      "metadata": {
        "colab": {
          "base_uri": "https://localhost:8080/"
        },
        "id": "3mHa58BgbgQa",
        "outputId": "c4f56e54-2897-4d2b-865e-1cc9eeb7c8eb"
      },
      "execution_count": 13,
      "outputs": [
        {
          "output_type": "execute_result",
          "data": {
            "text/plain": [
              "<tf.Tensor: shape=(4, 2), dtype=int32, numpy=\n",
              "array([[ 74, 120],\n",
              "       [ 77, 123],\n",
              "       [ 80, 129],\n",
              "       [ 80, 138]], dtype=int32)>"
            ]
          },
          "metadata": {},
          "execution_count": 13
        }
      ]
    },
    {
      "cell_type": "code",
      "source": [
        "print(T_tran.shape)\n",
        "print(T_tran)"
      ],
      "metadata": {
        "colab": {
          "base_uri": "https://localhost:8080/"
        },
        "id": "PIjX3N-kfNb4",
        "outputId": "0fb1e874-ad1a-455d-e2cd-82001272118a"
      },
      "execution_count": 15,
      "outputs": [
        {
          "output_type": "stream",
          "name": "stdout",
          "text": [
            "(3, 4, 2)\n",
            "tf.Tensor(\n",
            "[[[ 74 128]\n",
            "  [ 78 118]\n",
            "  [ 84 138]\n",
            "  [ 82 126]]\n",
            "\n",
            " [[ 79 116]\n",
            "  [ 82 124]\n",
            "  [ 84 130]\n",
            "  [ 76 156]]\n",
            "\n",
            " [[ 71 116]\n",
            "  [ 72 128]\n",
            "  [ 74 120]\n",
            "  [ 82 132]]], shape=(3, 4, 2), dtype=int32)\n"
          ]
        }
      ]
    },
    {
      "cell_type": "code",
      "source": [
        "T_sum1 = tf.reduce_sum(T_tran, axis = 1)\n",
        "T_sum1"
      ],
      "metadata": {
        "colab": {
          "base_uri": "https://localhost:8080/"
        },
        "id": "GoF79OZ3ftL0",
        "outputId": "09b1531c-4dcc-405a-db2c-86062d30bb01"
      },
      "execution_count": 16,
      "outputs": [
        {
          "output_type": "execute_result",
          "data": {
            "text/plain": [
              "<tf.Tensor: shape=(3, 2), dtype=int32, numpy=\n",
              "array([[318, 510],\n",
              "       [321, 526],\n",
              "       [299, 496]], dtype=int32)>"
            ]
          },
          "metadata": {},
          "execution_count": 16
        }
      ]
    },
    {
      "cell_type": "code",
      "source": [
        "print(T_tran.shape)\n",
        "print(T_tran)"
      ],
      "metadata": {
        "colab": {
          "base_uri": "https://localhost:8080/"
        },
        "id": "UGJ1_25ufzav",
        "outputId": "47e2d003-57a3-4249-f1fb-5490da971e73"
      },
      "execution_count": 17,
      "outputs": [
        {
          "output_type": "stream",
          "name": "stdout",
          "text": [
            "(3, 4, 2)\n",
            "tf.Tensor(\n",
            "[[[ 74 128]\n",
            "  [ 78 118]\n",
            "  [ 84 138]\n",
            "  [ 82 126]]\n",
            "\n",
            " [[ 79 116]\n",
            "  [ 82 124]\n",
            "  [ 84 130]\n",
            "  [ 76 156]]\n",
            "\n",
            " [[ 71 116]\n",
            "  [ 72 128]\n",
            "  [ 74 120]\n",
            "  [ 82 132]]], shape=(3, 4, 2), dtype=int32)\n"
          ]
        }
      ]
    },
    {
      "cell_type": "code",
      "source": [
        "T_mean1 = tf.reduce_mean(T_tran, axis = 1)\n",
        "T_mean1"
      ],
      "metadata": {
        "colab": {
          "base_uri": "https://localhost:8080/"
        },
        "id": "sQnN4tWUf_K7",
        "outputId": "be0e2842-0185-416a-ba36-239aa60e1848"
      },
      "execution_count": 19,
      "outputs": [
        {
          "output_type": "execute_result",
          "data": {
            "text/plain": [
              "<tf.Tensor: shape=(3, 2), dtype=int32, numpy=\n",
              "array([[ 79, 127],\n",
              "       [ 80, 131],\n",
              "       [ 74, 124]], dtype=int32)>"
            ]
          },
          "metadata": {},
          "execution_count": 19
        }
      ]
    },
    {
      "cell_type": "code",
      "source": [],
      "metadata": {
        "id": "VsoGCNwggFGC"
      },
      "execution_count": null,
      "outputs": []
    }
  ]
}