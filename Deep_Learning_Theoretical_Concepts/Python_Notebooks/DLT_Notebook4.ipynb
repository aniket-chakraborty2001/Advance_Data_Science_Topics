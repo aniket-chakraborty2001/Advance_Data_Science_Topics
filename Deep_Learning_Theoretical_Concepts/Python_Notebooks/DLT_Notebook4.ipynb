{
 "cells": [
  {
   "cell_type": "markdown",
   "id": "HeWgOD1uD1YP",
   "metadata": {
    "id": "HeWgOD1uD1YP"
   },
   "source": [
    "---\n",
    "\n",
    "Load libraries\n",
    "\n",
    "---"
   ]
  },
  {
   "cell_type": "code",
   "execution_count": 1,
   "id": "FXrh9fPyMtwx",
   "metadata": {
    "id": "FXrh9fPyMtwx"
   },
   "outputs": [
    {
     "name": "stdout",
     "output_type": "stream",
     "text": [
      "WARNING:tensorflow:From C:\\Users\\Semi\\anaconda3\\lib\\site-packages\\keras\\src\\losses.py:2976: The name tf.losses.sparse_softmax_cross_entropy is deprecated. Please use tf.compat.v1.losses.sparse_softmax_cross_entropy instead.\n",
      "\n"
     ]
    }
   ],
   "source": [
    "## Load libraries\n",
    "import numpy as np\n",
    "import sympy as sp\n",
    "import sys\n",
    "import matplotlib.pyplot as plt\n",
    "import matplotlib.cm as cm\n",
    "plt.style.use('dark_background')\n",
    "from keras.datasets import mnist\n",
    "%matplotlib inline"
   ]
  },
  {
   "cell_type": "markdown",
   "id": "ttFTTWbqD4eQ",
   "metadata": {
    "id": "ttFTTWbqD4eQ"
   },
   "source": [
    "---\n",
    "\n",
    "Set printing precision\n",
    "\n",
    "---"
   ]
  },
  {
   "cell_type": "code",
   "execution_count": 2,
   "id": "P3UMZJowDzo0",
   "metadata": {
    "id": "P3UMZJowDzo0"
   },
   "outputs": [],
   "source": [
    "np.set_printoptions(precision = 2)"
   ]
  },
  {
   "cell_type": "markdown",
   "id": "ntgpzUVDD6yI",
   "metadata": {
    "id": "ntgpzUVDD6yI"
   },
   "source": [
    "---\n",
    "\n",
    "Import tensorflow and check version\n",
    "\n",
    "---"
   ]
  },
  {
   "cell_type": "code",
   "execution_count": 3,
   "id": "c46bca87",
   "metadata": {
    "execution": {
     "iopub.execute_input": "2023-08-18T20:03:32.947591Z",
     "iopub.status.busy": "2023-08-18T20:03:32.946960Z",
     "iopub.status.idle": "2023-08-18T20:03:35.685762Z",
     "shell.execute_reply": "2023-08-18T20:03:35.684891Z"
    },
    "id": "c46bca87",
    "origin_pos": 7,
    "tab": [
     "tensorflow"
    ]
   },
   "outputs": [],
   "source": [
    "import tensorflow as tf"
   ]
  },
  {
   "cell_type": "code",
   "execution_count": 4,
   "id": "VA6rtGqLW1jr",
   "metadata": {
    "id": "VA6rtGqLW1jr"
   },
   "outputs": [
    {
     "data": {
      "text/plain": [
       "'2.15.0'"
      ]
     },
     "execution_count": 4,
     "metadata": {},
     "output_type": "execute_result"
    }
   ],
   "source": [
    "tf.__version__"
   ]
  },
  {
   "cell_type": "code",
   "execution_count": 5,
   "id": "0s0mudRDMxGf",
   "metadata": {
    "id": "0s0mudRDMxGf"
   },
   "outputs": [],
   "source": [
    "## Mount Google drive folder if running in Colab\n",
    "if('google.colab' in sys.modules):\n",
    "    from google.colab import drive\n",
    "    drive.mount('/content/drive', force_remount = True)\n",
    "    DIR = '/content/drive/MyDrive/Colab Notebooks/MAHE/MSIS Coursework/OddSem2023MAHE'\n",
    "    DATA_DIR = DIR + '/Data/'\n",
    "else:\n",
    "    DATA_DIR = 'Data/'"
   ]
  },
  {
   "cell_type": "markdown",
   "id": "bDoLtOu1DIeI",
   "metadata": {
    "id": "bDoLtOu1DIeI"
   },
   "source": [
    "---\n",
    "\n",
    "Calculating softmax loss and gradient for a toy dataset\n",
    "\n",
    "----"
   ]
  },
  {
   "cell_type": "code",
   "execution_count": 10,
   "id": "r6UN0aHBDJQ7",
   "metadata": {
    "id": "r6UN0aHBDJQ7"
   },
   "outputs": [
    {
     "name": "stdout",
     "output_type": "stream",
     "text": [
      "X = \n",
      "[[3 3 1 3 0]\n",
      " [4 4 3 1 0]\n",
      " [3 3 4 1 1]\n",
      " [0 0 2 1 1]]\n",
      "y = \n",
      "[2 1 2 2 0]\n",
      "W = \n",
      "[[-1  3  0  0]\n",
      " [ 1  3  0  3]\n",
      " [ 3  2  1  0]]\n"
     ]
    }
   ],
   "source": [
    "# Generate artificial data with 5 samples, 4 features per sample\n",
    "# and 3 output classes. Here we arrange samples column by column so X will be \n",
    "# 4*5 instead of 5*4\n",
    "num_samples = 5 # number of samples\n",
    "num_features = 4 # number of features (a.k.a. dimensionality)\n",
    "num_labels = 3 # number of output labels\n",
    "# Data matrix (each column = single sample)\n",
    "X = np.random.choice(np.arange(0, 5), size = (num_features, num_samples), replace = True)\n",
    "# Class labels\n",
    "y = np.random.choice([0, 1, 2], size = num_samples, replace = True)\n",
    "# Randomly assign entries of weights matrix\n",
    "W = np.random.choice(np.arange(-4, 4), size = (num_labels, num_features), replace = True)\n",
    "\n",
    "print('X = ')\n",
    "print(X)\n",
    "print('y = ')\n",
    "print(y)\n",
    "print('W = ')\n",
    "print(W)"
   ]
  },
  {
   "cell_type": "markdown",
   "id": "eRbN8y4cDM-a",
   "metadata": {
    "id": "eRbN8y4cDM-a"
   },
   "source": [
    "---\n",
    "\n",
    "Add the bias feature to the data matrix (run this cell only once!)\n",
    "\n",
    "---"
   ]
  },
  {
   "cell_type": "code",
   "execution_count": 16,
   "id": "8HEBxBkEDVof",
   "metadata": {
    "id": "8HEBxBkEDVof"
   },
   "outputs": [
    {
     "name": "stdout",
     "output_type": "stream",
     "text": [
      "X = \n",
      "[[3 3 1 3 0]\n",
      " [4 4 3 1 0]\n",
      " [3 3 4 1 1]\n",
      " [0 0 2 1 1]]\n",
      "X with bias feature = \n",
      "[[3. 3. 1. 3. 0.]\n",
      " [4. 4. 3. 1. 0.]\n",
      " [3. 3. 4. 1. 1.]\n",
      " [0. 0. 2. 1. 1.]\n",
      " [1. 1. 1. 1. 1.]]\n"
     ]
    }
   ],
   "source": [
    "# Add the bias feature to the data matrix (run this cell only once!)\n",
    "print('X = ')\n",
    "print(X)\n",
    "print('X with bias feature = ')\n",
    "X = np.vstack([X, np.ones((1, num_samples))])\n",
    "print(X)"
   ]
  },
  {
   "cell_type": "markdown",
   "id": "szHBFLWXDZkO",
   "metadata": {
    "id": "szHBFLWXDZkO"
   },
   "source": [
    "---\n",
    "\n",
    "Adjust the weight matrix with (possibly random) values added\n",
    "for bias as the last column (run this cell only once!)\n",
    "\n",
    "---"
   ]
  },
  {
   "cell_type": "code",
   "execution_count": 18,
   "id": "BCOz6CJgDezS",
   "metadata": {
    "id": "BCOz6CJgDezS"
   },
   "outputs": [
    {
     "name": "stdout",
     "output_type": "stream",
     "text": [
      "[[-1.  3.  0.  0.  1.]\n",
      " [ 1.  3.  0.  3.  1.]\n",
      " [ 3.  2.  1.  0.  1.]]\n"
     ]
    }
   ],
   "source": [
    "# Adjust the weight matrix with (possibly random) values added\n",
    "# for bias as the last column (run this cell only once!)\n",
    "W = np.hstack([W, np.ones((num_labels, 1))])\n",
    "print(W)"
   ]
  },
  {
   "cell_type": "markdown",
   "id": "7BHFFWGQDhK0",
   "metadata": {
    "id": "7BHFFWGQDhK0"
   },
   "source": [
    "---\n",
    "\n",
    "Calculate the raw zcores matrix\n",
    "\n",
    "---"
   ]
  },
  {
   "cell_type": "code",
   "execution_count": 20,
   "id": "Kb_1aZBGDnFE",
   "metadata": {
    "id": "Kb_1aZBGDnFE"
   },
   "outputs": [
    {
     "name": "stdout",
     "output_type": "stream",
     "text": [
      "Z = \n",
      "[[10. 10.  9.  1.  1.]\n",
      " [16. 16. 17. 10.  4.]\n",
      " [21. 21. 14. 13.  2.]]\n"
     ]
    }
   ],
   "source": [
    "Z = np.dot(W,X)\n",
    "print('Z = ')\n",
    "print(Z)"
   ]
  },
  {
   "cell_type": "code",
   "execution_count": 22,
   "id": "95f6c025",
   "metadata": {},
   "outputs": [
    {
     "name": "stdout",
     "output_type": "stream",
     "text": [
      "[2 1 2 2 0]\n"
     ]
    }
   ],
   "source": [
    "print (y)"
   ]
  },
  {
   "cell_type": "markdown",
   "id": "fm8ySbbDDo5H",
   "metadata": {
    "id": "fm8ySbbDDo5H"
   },
   "source": [
    "---\n",
    "\n",
    "Define softmax function\n",
    "\n",
    "---\n"
   ]
  },
  {
   "cell_type": "code",
   "execution_count": 23,
   "id": "MBsVw-CLDuYb",
   "metadata": {
    "id": "MBsVw-CLDuYb"
   },
   "outputs": [],
   "source": [
    "# Define softmax function\n",
    "def softmax(Z):\n",
    "  # Convert scores to non-normalized probabilites matrix. Note that for each sample,\n",
    "  # that is in each column, the values don't add up to 1. Also note that the\n",
    "  # output values are typically large or small\n",
    "  Z_exp =np.exp(Z - np.max(Z, axis=0))\n",
    " \n",
    "    \n",
    "  # Normalize probabilities matrix such that the sum across each column is equal to 1.\n",
    "  # Now we have actually probability values for each sample.\n",
    "  return(Z_exp /np.sum(Z_exp,axis= 0))"
   ]
  },
  {
   "cell_type": "markdown",
   "id": "G4ZIBTCpEAo5",
   "metadata": {
    "id": "G4ZIBTCpEAo5"
   },
   "source": [
    "---\n",
    "\n",
    "Calculate the probability matrix\n",
    "\n",
    "---"
   ]
  },
  {
   "cell_type": "code",
   "execution_count": 25,
   "id": "mote5aNPEIwF",
   "metadata": {
    "id": "mote5aNPEIwF"
   },
   "outputs": [
    {
     "name": "stdout",
     "output_type": "stream",
     "text": [
      "[[10. 10.  9.  1.  1.]\n",
      " [16. 16. 17. 10.  4.]\n",
      " [21. 21. 14. 13.  2.]]\n",
      "[[1.66e-05 1.66e-05 3.19e-04 5.85e-06 4.20e-02]\n",
      " [6.69e-03 6.69e-03 9.52e-01 4.74e-02 8.44e-01]\n",
      " [9.93e-01 9.93e-01 4.74e-02 9.53e-01 1.14e-01]]\n",
      "[1. 1. 1. 1. 1.]\n",
      "[2 1 2 2 0]\n"
     ]
    }
   ],
   "source": [
    "#  Calculate the probability matrix\n",
    "P = softmax(Z)\n",
    "print(Z)\n",
    "print(P)\n",
    "# Sum in each column of matrix P\n",
    "print(np.sum(P,axis= 0))\n",
    "# Print the correct label for each sample\n",
    "print(y)"
   ]
  },
  {
   "cell_type": "markdown",
   "id": "30-kpa-4ELyk",
   "metadata": {
    "id": "30-kpa-4ELyk"
   },
   "source": [
    "---\n",
    "\n",
    "Calculate training loss for all samples.\n",
    "\n",
    "---"
   ]
  },
  {
   "cell_type": "code",
   "execution_count": 28,
   "id": "2qSjIa_RETTf",
   "metadata": {
    "id": "2qSjIa_RETTf"
   },
   "outputs": [
    {
     "name": "stdout",
     "output_type": "stream",
     "text": [
      "Loss = \n",
      "[0.01 5.01 3.05 0.05 3.17]\n",
      "Total loss = 2.256162\n"
     ]
    }
   ],
   "source": [
    "loss = -np.log(P[y, np.arange(num_samples)])\n",
    "print('Loss = ')\n",
    "print(loss)\n",
    "# Calculate average training loss\n",
    "loss_data = np.mean(loss)\n",
    "print('Total loss = %f'%(loss_data))"
   ]
  },
  {
   "cell_type": "markdown",
   "id": "FJahIQnIEWkg",
   "metadata": {
    "id": "FJahIQnIEWkg"
   },
   "source": [
    "---\n",
    "\n",
    "Calculate regularization loss\n",
    "\n",
    "---\n"
   ]
  },
  {
   "cell_type": "code",
   "execution_count": 31,
   "id": "54bb0ae7",
   "metadata": {},
   "outputs": [
    {
     "name": "stdout",
     "output_type": "stream",
     "text": [
      "[[-1.  3.  0.  0.  1.]\n",
      " [ 1.  3.  0.  3.  1.]\n",
      " [ 3.  2.  1.  0.  1.]]\n",
      "[[-1.  3.  0.  0.]\n",
      " [ 1.  3.  0.  3.]\n",
      " [ 3.  2.  1.  0.]]\n",
      "[[1. 9. 0. 0.]\n",
      " [1. 9. 0. 9.]\n",
      " [9. 4. 1. 0.]]\n"
     ]
    }
   ],
   "source": [
    "print(W)\n",
    "print(W[:,:-1])\n",
    "print(W[:,:-1]*W[:,:-1])"
   ]
  },
  {
   "cell_type": "code",
   "execution_count": 36,
   "id": "wqek2LDXEdms",
   "metadata": {
    "id": "wqek2LDXEdms"
   },
   "outputs": [
    {
     "name": "stdout",
     "output_type": "stream",
     "text": [
      "Total loss = 6.556162\n"
     ]
    }
   ],
   "source": [
    "# Regularization loss\n",
    "reg = 0.1 # strength of regularization = 10%\n",
    "loss_reg = (np.sum(W[:,:-1]*W[:,:-1])) * reg\n",
    "print('Total loss = %f'%(loss_data+loss_reg))"
   ]
  },
  {
   "cell_type": "markdown",
   "id": "botmTI2VEg_4",
   "metadata": {
    "id": "botmTI2VEg_4"
   },
   "source": [
    "---\n",
    "\n",
    "Calculate the gradient of total loss w.r.t. the weights W\n",
    "\n",
    "---\n"
   ]
  },
  {
   "cell_type": "code",
   "execution_count": 41,
   "id": "TXQ8n2gMEmsE",
   "metadata": {
    "id": "TXQ8n2gMEmsE"
   },
   "outputs": [
    {
     "name": "stdout",
     "output_type": "stream",
     "text": [
      "[[-0.2   0.6  -0.79 -0.79 -0.79]\n",
      " [-1.97 -2.01 -1.45  1.16 -0.43]\n",
      " [-3.23 -4.19 -4.76 -2.17 -1.78]]\n"
     ]
    }
   ],
   "source": [
    "# Adjust the probability matrix such that 1 is subtracted\n",
    "# from each samples correct category probability.\n",
    "P[y, range(num_samples)] = P[y, range(num_samples)] - 1 \n",
    "\n",
    "# Calculate the gradient of total loss w.r.t. the weights W\n",
    "dW = (1/num_samples)* np.dot(P, X.T)+ reg * 2* np.hstack([W[:,:-1], np.zeros((num_labels,1))])\n",
    "print(dW)"
   ]
  },
  {
   "cell_type": "markdown",
   "id": "riIs3abkEv5Z",
   "metadata": {
    "id": "riIs3abkEv5Z"
   },
   "source": [
    "---\n",
    "\n",
    "Apply gradient descent to the toy dataset\n",
    "\n",
    "---\n"
   ]
  },
  {
   "cell_type": "code",
   "execution_count": 45,
   "id": "aBYtL0-gE26z",
   "metadata": {
    "id": "aBYtL0-gE26z"
   },
   "outputs": [
    {
     "name": "stdout",
     "output_type": "stream",
     "text": [
      "Iteration = 1, ||gradL(W)|| = 8.504106\n",
      "Iteration = 2, ||gradL(W)|| = 8.504106\n",
      "Iteration = 3, ||gradL(W)|| = 8.504106\n",
      "Iteration = 4, ||gradL(W)|| = 8.504106\n",
      "Iteration = 5, ||gradL(W)|| = 8.504106\n",
      "Iteration = 6, ||gradL(W)|| = 8.504106\n",
      "Iteration = 7, ||gradL(W)|| = 8.504106\n",
      "Iteration = 8, ||gradL(W)|| = 8.504106\n",
      "Iteration = 9, ||gradL(W)|| = 8.504106\n",
      "Iteration = 10, ||gradL(W)|| = 8.504106\n",
      "Iteration = 11, ||gradL(W)|| = 8.504106\n",
      "Iteration = 12, ||gradL(W)|| = 8.504106\n",
      "Iteration = 13, ||gradL(W)|| = 8.504106\n",
      "Iteration = 14, ||gradL(W)|| = 8.504106\n",
      "Iteration = 15, ||gradL(W)|| = 8.504106\n",
      "Iteration = 16, ||gradL(W)|| = 8.504106\n",
      "Iteration = 17, ||gradL(W)|| = 8.504106\n",
      "Iteration = 18, ||gradL(W)|| = 8.504106\n",
      "Iteration = 19, ||gradL(W)|| = 8.504106\n",
      "Iteration = 20, ||gradL(W)|| = 8.504106\n",
      "Iteration = 21, ||gradL(W)|| = 8.504106\n",
      "Iteration = 22, ||gradL(W)|| = 8.504106\n",
      "Iteration = 23, ||gradL(W)|| = 8.504106\n",
      "Iteration = 24, ||gradL(W)|| = 8.504106\n",
      "Iteration = 25, ||gradL(W)|| = 8.504106\n",
      "Iteration = 26, ||gradL(W)|| = 8.504106\n",
      "Iteration = 27, ||gradL(W)|| = 8.504106\n",
      "Iteration = 28, ||gradL(W)|| = 8.504106\n",
      "Iteration = 29, ||gradL(W)|| = 8.504106\n",
      "Iteration = 30, ||gradL(W)|| = 8.504106\n",
      "Iteration = 31, ||gradL(W)|| = 8.504106\n",
      "Iteration = 32, ||gradL(W)|| = 8.504106\n",
      "Iteration = 33, ||gradL(W)|| = 8.504106\n",
      "Iteration = 34, ||gradL(W)|| = 8.504106\n",
      "Iteration = 35, ||gradL(W)|| = 8.504106\n",
      "Iteration = 36, ||gradL(W)|| = 8.504106\n",
      "Iteration = 37, ||gradL(W)|| = 8.504106\n",
      "Iteration = 38, ||gradL(W)|| = 8.504106\n",
      "Iteration = 39, ||gradL(W)|| = 8.504106\n",
      "Iteration = 40, ||gradL(W)|| = 8.504106\n",
      "Iteration = 41, ||gradL(W)|| = 8.504106\n",
      "Iteration = 42, ||gradL(W)|| = 8.504106\n",
      "Iteration = 43, ||gradL(W)|| = 8.504106\n",
      "Iteration = 44, ||gradL(W)|| = 8.504106\n",
      "Iteration = 45, ||gradL(W)|| = 8.504106\n",
      "Iteration = 46, ||gradL(W)|| = 8.504106\n",
      "Iteration = 47, ||gradL(W)|| = 8.504106\n",
      "Iteration = 48, ||gradL(W)|| = 8.504106\n",
      "Iteration = 49, ||gradL(W)|| = 8.504106\n",
      "Iteration = 50, ||gradL(W)|| = 8.504106\n",
      "Iteration = 51, ||gradL(W)|| = 8.504106\n",
      "Iteration = 52, ||gradL(W)|| = 8.504106\n",
      "Iteration = 53, ||gradL(W)|| = 8.504106\n",
      "Iteration = 54, ||gradL(W)|| = 8.504106\n",
      "Iteration = 55, ||gradL(W)|| = 8.504106\n",
      "Iteration = 56, ||gradL(W)|| = 8.504106\n",
      "Iteration = 57, ||gradL(W)|| = 8.504106\n",
      "Iteration = 58, ||gradL(W)|| = 8.504106\n",
      "Iteration = 59, ||gradL(W)|| = 8.504106\n",
      "Iteration = 60, ||gradL(W)|| = 8.504106\n",
      "Iteration = 61, ||gradL(W)|| = 8.504106\n",
      "Iteration = 62, ||gradL(W)|| = 8.504106\n",
      "Iteration = 63, ||gradL(W)|| = 8.504106\n",
      "Iteration = 64, ||gradL(W)|| = 8.504106\n",
      "Iteration = 65, ||gradL(W)|| = 8.504106\n",
      "Iteration = 66, ||gradL(W)|| = 8.504106\n",
      "Iteration = 67, ||gradL(W)|| = 8.504106\n",
      "Iteration = 68, ||gradL(W)|| = 8.504106\n",
      "Iteration = 69, ||gradL(W)|| = 8.504106\n",
      "Iteration = 70, ||gradL(W)|| = 8.504106\n",
      "Iteration = 71, ||gradL(W)|| = 8.504106\n",
      "Iteration = 72, ||gradL(W)|| = 8.504106\n",
      "Iteration = 73, ||gradL(W)|| = 8.504106\n",
      "Iteration = 74, ||gradL(W)|| = 8.504106\n",
      "Iteration = 75, ||gradL(W)|| = 8.504106\n",
      "Iteration = 76, ||gradL(W)|| = 8.504106\n",
      "Iteration = 77, ||gradL(W)|| = 8.504106\n",
      "Iteration = 78, ||gradL(W)|| = 8.504106\n",
      "Iteration = 79, ||gradL(W)|| = 8.504106\n",
      "Iteration = 80, ||gradL(W)|| = 8.504106\n",
      "Iteration = 81, ||gradL(W)|| = 8.504106\n",
      "Iteration = 82, ||gradL(W)|| = 8.504106\n",
      "Iteration = 83, ||gradL(W)|| = 8.504106\n",
      "Iteration = 84, ||gradL(W)|| = 8.504106\n",
      "Iteration = 85, ||gradL(W)|| = 8.504106\n",
      "Iteration = 86, ||gradL(W)|| = 8.504106\n",
      "Iteration = 87, ||gradL(W)|| = 8.504106\n",
      "Iteration = 88, ||gradL(W)|| = 8.504106\n",
      "Iteration = 89, ||gradL(W)|| = 8.504106\n",
      "Iteration = 90, ||gradL(W)|| = 8.504106\n",
      "Iteration = 91, ||gradL(W)|| = 8.504106\n",
      "Iteration = 92, ||gradL(W)|| = 8.504106\n",
      "Iteration = 93, ||gradL(W)|| = 8.504106\n",
      "Iteration = 94, ||gradL(W)|| = 8.504106\n",
      "Iteration = 95, ||gradL(W)|| = 8.504106\n",
      "Iteration = 96, ||gradL(W)|| = 8.504106\n",
      "Iteration = 97, ||gradL(W)|| = 8.504106\n",
      "Iteration = 98, ||gradL(W)|| = 8.504106\n",
      "Iteration = 99, ||gradL(W)|| = 8.504106\n",
      "Iteration = 100, ||gradL(W)|| = 8.504106\n",
      "Iteration = 101, ||gradL(W)|| = 8.504106\n",
      "Iteration = 102, ||gradL(W)|| = 8.504106\n",
      "Iteration = 103, ||gradL(W)|| = 8.504106\n",
      "Iteration = 104, ||gradL(W)|| = 8.504106\n",
      "Iteration = 105, ||gradL(W)|| = 8.504106\n",
      "Iteration = 106, ||gradL(W)|| = 8.504106\n",
      "Iteration = 107, ||gradL(W)|| = 8.504106\n",
      "Iteration = 108, ||gradL(W)|| = 8.504106\n",
      "Iteration = 109, ||gradL(W)|| = 8.504106\n",
      "Iteration = 110, ||gradL(W)|| = 8.504106\n",
      "Iteration = 111, ||gradL(W)|| = 8.504106\n",
      "Iteration = 112, ||gradL(W)|| = 8.504106\n",
      "Iteration = 113, ||gradL(W)|| = 8.504106\n",
      "Iteration = 114, ||gradL(W)|| = 8.504106\n",
      "Iteration = 115, ||gradL(W)|| = 8.504106\n",
      "Iteration = 116, ||gradL(W)|| = 8.504106\n",
      "Iteration = 117, ||gradL(W)|| = 8.504106\n",
      "Iteration = 118, ||gradL(W)|| = 8.504106\n",
      "Iteration = 119, ||gradL(W)|| = 8.504106\n",
      "Iteration = 120, ||gradL(W)|| = 8.504106\n",
      "Iteration = 121, ||gradL(W)|| = 8.504106\n",
      "Iteration = 122, ||gradL(W)|| = 8.504106\n",
      "Iteration = 123, ||gradL(W)|| = 8.504106\n",
      "Iteration = 124, ||gradL(W)|| = 8.504106\n",
      "Iteration = 125, ||gradL(W)|| = 8.504106\n",
      "Iteration = 126, ||gradL(W)|| = 8.504106\n",
      "Iteration = 127, ||gradL(W)|| = 8.504106\n",
      "Iteration = 128, ||gradL(W)|| = 8.504106\n",
      "Iteration = 129, ||gradL(W)|| = 8.504106\n",
      "Iteration = 130, ||gradL(W)|| = 8.504106\n",
      "Iteration = 131, ||gradL(W)|| = 8.504106\n",
      "Iteration = 132, ||gradL(W)|| = 8.504106\n",
      "Iteration = 133, ||gradL(W)|| = 8.504106\n",
      "Iteration = 134, ||gradL(W)|| = 8.504106\n",
      "Iteration = 135, ||gradL(W)|| = 8.504106\n",
      "Iteration = 136, ||gradL(W)|| = 8.504106\n",
      "Iteration = 137, ||gradL(W)|| = 8.504106\n",
      "Iteration = 138, ||gradL(W)|| = 8.504106\n",
      "Iteration = 139, ||gradL(W)|| = 8.504106\n",
      "Iteration = 140, ||gradL(W)|| = 8.504106\n",
      "Iteration = 141, ||gradL(W)|| = 8.504106\n",
      "Iteration = 142, ||gradL(W)|| = 8.504106\n",
      "Iteration = 143, ||gradL(W)|| = 8.504106\n",
      "Iteration = 144, ||gradL(W)|| = 8.504106\n",
      "Iteration = 145, ||gradL(W)|| = 8.504106\n",
      "Iteration = 146, ||gradL(W)|| = 8.504106\n",
      "Iteration = 147, ||gradL(W)|| = 8.504106\n",
      "Iteration = 148, ||gradL(W)|| = 8.504106\n",
      "Iteration = 149, ||gradL(W)|| = 8.504106\n",
      "Iteration = 150, ||gradL(W)|| = 8.504106\n",
      "Iteration = 151, ||gradL(W)|| = 8.504106\n",
      "Iteration = 152, ||gradL(W)|| = 8.504106\n",
      "Iteration = 153, ||gradL(W)|| = 8.504106\n",
      "Iteration = 154, ||gradL(W)|| = 8.504106\n",
      "Iteration = 155, ||gradL(W)|| = 8.504106\n",
      "Iteration = 156, ||gradL(W)|| = 8.504106\n",
      "Iteration = 157, ||gradL(W)|| = 8.504106\n",
      "Iteration = 158, ||gradL(W)|| = 8.504106\n",
      "Iteration = 159, ||gradL(W)|| = 8.504106\n",
      "Iteration = 160, ||gradL(W)|| = 8.504106\n",
      "Iteration = 161, ||gradL(W)|| = 8.504106\n",
      "Iteration = 162, ||gradL(W)|| = 8.504106\n",
      "Iteration = 163, ||gradL(W)|| = 8.504106\n",
      "Iteration = 164, ||gradL(W)|| = 8.504106\n",
      "Iteration = 165, ||gradL(W)|| = 8.504106\n",
      "Iteration = 166, ||gradL(W)|| = 8.504106\n",
      "Iteration = 167, ||gradL(W)|| = 8.504106\n",
      "Iteration = 168, ||gradL(W)|| = 8.504106\n",
      "Iteration = 169, ||gradL(W)|| = 8.504106\n",
      "Iteration = 170, ||gradL(W)|| = 8.504106\n",
      "Iteration = 171, ||gradL(W)|| = 8.504106\n",
      "Iteration = 172, ||gradL(W)|| = 8.504106\n",
      "Iteration = 173, ||gradL(W)|| = 8.504106\n",
      "Iteration = 174, ||gradL(W)|| = 8.504106\n",
      "Iteration = 175, ||gradL(W)|| = 8.504106\n",
      "Iteration = 176, ||gradL(W)|| = 8.504106\n",
      "Iteration = 177, ||gradL(W)|| = 8.504106\n",
      "Iteration = 178, ||gradL(W)|| = 8.504106\n",
      "Iteration = 179, ||gradL(W)|| = 8.504106\n",
      "Iteration = 180, ||gradL(W)|| = 8.504106\n",
      "Iteration = 181, ||gradL(W)|| = 8.504106\n",
      "Iteration = 182, ||gradL(W)|| = 8.504106\n",
      "Iteration = 183, ||gradL(W)|| = 8.504106\n",
      "Iteration = 184, ||gradL(W)|| = 8.504106\n",
      "Iteration = 185, ||gradL(W)|| = 8.504106\n",
      "Iteration = 186, ||gradL(W)|| = 8.504106\n",
      "Iteration = 187, ||gradL(W)|| = 8.504106\n",
      "Iteration = 188, ||gradL(W)|| = 8.504106\n",
      "Iteration = 189, ||gradL(W)|| = 8.504106\n",
      "Iteration = 190, ||gradL(W)|| = 8.504106\n",
      "Iteration = 191, ||gradL(W)|| = 8.504106\n",
      "Iteration = 192, ||gradL(W)|| = 8.504106\n",
      "Iteration = 193, ||gradL(W)|| = 8.504106\n",
      "Iteration = 194, ||gradL(W)|| = 8.504106\n",
      "Iteration = 195, ||gradL(W)|| = 8.504106\n",
      "Iteration = 196, ||gradL(W)|| = 8.504106\n",
      "Iteration = 197, ||gradL(W)|| = 8.504106\n",
      "Iteration = 198, ||gradL(W)|| = 8.504106\n",
      "Iteration = 199, ||gradL(W)|| = 8.504106\n",
      "Iteration = 200, ||gradL(W)|| = 8.504106\n",
      "Iteration = 201, ||gradL(W)|| = 8.504106\n",
      "Iteration = 202, ||gradL(W)|| = 8.504106\n",
      "Iteration = 203, ||gradL(W)|| = 8.504106\n",
      "Iteration = 204, ||gradL(W)|| = 8.504106\n",
      "Iteration = 205, ||gradL(W)|| = 8.504106\n",
      "Iteration = 206, ||gradL(W)|| = 8.504106\n",
      "Iteration = 207, ||gradL(W)|| = 8.504106\n",
      "Iteration = 208, ||gradL(W)|| = 8.504106\n",
      "Iteration = 209, ||gradL(W)|| = 8.504106\n",
      "Iteration = 210, ||gradL(W)|| = 8.504106\n",
      "Iteration = 211, ||gradL(W)|| = 8.504106\n",
      "Iteration = 212, ||gradL(W)|| = 8.504106\n",
      "Iteration = 213, ||gradL(W)|| = 8.504106\n",
      "Iteration = 214, ||gradL(W)|| = 8.504106\n",
      "Iteration = 215, ||gradL(W)|| = 8.504106\n",
      "Iteration = 216, ||gradL(W)|| = 8.504106\n",
      "Iteration = 217, ||gradL(W)|| = 8.504106\n",
      "Iteration = 218, ||gradL(W)|| = 8.504106\n",
      "Iteration = 219, ||gradL(W)|| = 8.504106\n",
      "Iteration = 220, ||gradL(W)|| = 8.504106\n",
      "Iteration = 221, ||gradL(W)|| = 8.504106\n",
      "Iteration = 222, ||gradL(W)|| = 8.504106\n",
      "Iteration = 223, ||gradL(W)|| = 8.504106\n",
      "Iteration = 224, ||gradL(W)|| = 8.504106\n",
      "Iteration = 225, ||gradL(W)|| = 8.504106\n",
      "Iteration = 226, ||gradL(W)|| = 8.504106\n",
      "Iteration = 227, ||gradL(W)|| = 8.504106\n",
      "Iteration = 228, ||gradL(W)|| = 8.504106\n",
      "Iteration = 229, ||gradL(W)|| = 8.504106\n",
      "Iteration = 230, ||gradL(W)|| = 8.504106\n",
      "Iteration = 231, ||gradL(W)|| = 8.504106\n",
      "Iteration = 232, ||gradL(W)|| = 8.504106\n",
      "Iteration = 233, ||gradL(W)|| = 8.504106\n",
      "Iteration = 234, ||gradL(W)|| = 8.504106\n",
      "Iteration = 235, ||gradL(W)|| = 8.504106\n",
      "Iteration = 236, ||gradL(W)|| = 8.504106\n",
      "Iteration = 237, ||gradL(W)|| = 8.504106\n",
      "Iteration = 238, ||gradL(W)|| = 8.504106\n",
      "Iteration = 239, ||gradL(W)|| = 8.504106\n",
      "Iteration = 240, ||gradL(W)|| = 8.504106\n",
      "Iteration = 241, ||gradL(W)|| = 8.504106\n",
      "Iteration = 242, ||gradL(W)|| = 8.504106\n",
      "Iteration = 243, ||gradL(W)|| = 8.504106\n",
      "Iteration = 244, ||gradL(W)|| = 8.504106\n",
      "Iteration = 245, ||gradL(W)|| = 8.504106\n",
      "Iteration = 246, ||gradL(W)|| = 8.504106\n",
      "Iteration = 247, ||gradL(W)|| = 8.504106\n",
      "Iteration = 248, ||gradL(W)|| = 8.504106\n",
      "Iteration = 249, ||gradL(W)|| = 8.504106\n",
      "Iteration = 250, ||gradL(W)|| = 8.504106\n",
      "Iteration = 251, ||gradL(W)|| = 8.504106\n",
      "Iteration = 252, ||gradL(W)|| = 8.504106\n",
      "Iteration = 253, ||gradL(W)|| = 8.504106\n",
      "Iteration = 254, ||gradL(W)|| = 8.504106\n",
      "Iteration = 255, ||gradL(W)|| = 8.504106\n",
      "Iteration = 256, ||gradL(W)|| = 8.504106\n",
      "Iteration = 257, ||gradL(W)|| = 8.504106\n",
      "Iteration = 258, ||gradL(W)|| = 8.504106\n",
      "Iteration = 259, ||gradL(W)|| = 8.504106\n",
      "Iteration = 260, ||gradL(W)|| = 8.504106\n",
      "Iteration = 261, ||gradL(W)|| = 8.504106\n",
      "Iteration = 262, ||gradL(W)|| = 8.504106\n",
      "Iteration = 263, ||gradL(W)|| = 8.504106\n",
      "Iteration = 264, ||gradL(W)|| = 8.504106\n",
      "Iteration = 265, ||gradL(W)|| = 8.504106\n",
      "Iteration = 266, ||gradL(W)|| = 8.504106\n",
      "Iteration = 267, ||gradL(W)|| = 8.504106\n",
      "Iteration = 268, ||gradL(W)|| = 8.504106\n",
      "Iteration = 269, ||gradL(W)|| = 8.504106\n",
      "Iteration = 270, ||gradL(W)|| = 8.504106\n",
      "Iteration = 271, ||gradL(W)|| = 8.504106\n",
      "Iteration = 272, ||gradL(W)|| = 8.504106\n",
      "Iteration = 273, ||gradL(W)|| = 8.504106\n",
      "Iteration = 274, ||gradL(W)|| = 8.504106\n",
      "Iteration = 275, ||gradL(W)|| = 8.504106\n",
      "Iteration = 276, ||gradL(W)|| = 8.504106\n",
      "Iteration = 277, ||gradL(W)|| = 8.504106\n",
      "Iteration = 278, ||gradL(W)|| = 8.504106\n",
      "Iteration = 279, ||gradL(W)|| = 8.504106\n",
      "Iteration = 280, ||gradL(W)|| = 8.504106\n",
      "Iteration = 281, ||gradL(W)|| = 8.504106\n",
      "Iteration = 282, ||gradL(W)|| = 8.504106\n",
      "Iteration = 283, ||gradL(W)|| = 8.504106\n",
      "Iteration = 284, ||gradL(W)|| = 8.504106\n",
      "Iteration = 285, ||gradL(W)|| = 8.504106\n",
      "Iteration = 286, ||gradL(W)|| = 8.504106\n",
      "Iteration = 287, ||gradL(W)|| = 8.504106\n",
      "Iteration = 288, ||gradL(W)|| = 8.504106\n",
      "Iteration = 289, ||gradL(W)|| = 8.504106\n",
      "Iteration = 290, ||gradL(W)|| = 8.504106\n",
      "Iteration = 291, ||gradL(W)|| = 8.504106\n",
      "Iteration = 292, ||gradL(W)|| = 8.504106\n",
      "Iteration = 293, ||gradL(W)|| = 8.504106\n",
      "Iteration = 294, ||gradL(W)|| = 8.504106\n",
      "Iteration = 295, ||gradL(W)|| = 8.504106\n",
      "Iteration = 296, ||gradL(W)|| = 8.504106\n",
      "Iteration = 297, ||gradL(W)|| = 8.504106\n",
      "Iteration = 298, ||gradL(W)|| = 8.504106\n",
      "Iteration = 299, ||gradL(W)|| = 8.504106\n",
      "Iteration = 300, ||gradL(W)|| = 8.504106\n",
      "Iteration = 301, ||gradL(W)|| = 8.504106\n",
      "Iteration = 302, ||gradL(W)|| = 8.504106\n",
      "Iteration = 303, ||gradL(W)|| = 8.504106\n",
      "Iteration = 304, ||gradL(W)|| = 8.504106\n",
      "Iteration = 305, ||gradL(W)|| = 8.504106\n",
      "Iteration = 306, ||gradL(W)|| = 8.504106\n",
      "Iteration = 307, ||gradL(W)|| = 8.504106\n",
      "Iteration = 308, ||gradL(W)|| = 8.504106\n",
      "Iteration = 309, ||gradL(W)|| = 8.504106\n",
      "Iteration = 310, ||gradL(W)|| = 8.504106\n",
      "Iteration = 311, ||gradL(W)|| = 8.504106\n",
      "Iteration = 312, ||gradL(W)|| = 8.504106\n",
      "Iteration = 313, ||gradL(W)|| = 8.504106\n",
      "Iteration = 314, ||gradL(W)|| = 8.504106\n",
      "Iteration = 315, ||gradL(W)|| = 8.504106\n",
      "Iteration = 316, ||gradL(W)|| = 8.504106\n",
      "Iteration = 317, ||gradL(W)|| = 8.504106\n",
      "Iteration = 318, ||gradL(W)|| = 8.504106\n",
      "Iteration = 319, ||gradL(W)|| = 8.504106\n",
      "Iteration = 320, ||gradL(W)|| = 8.504106\n",
      "Iteration = 321, ||gradL(W)|| = 8.504106\n",
      "Iteration = 322, ||gradL(W)|| = 8.504106\n",
      "Iteration = 323, ||gradL(W)|| = 8.504106\n",
      "Iteration = 324, ||gradL(W)|| = 8.504106\n",
      "Iteration = 325, ||gradL(W)|| = 8.504106\n",
      "Iteration = 326, ||gradL(W)|| = 8.504106\n",
      "Iteration = 327, ||gradL(W)|| = 8.504106\n",
      "Iteration = 328, ||gradL(W)|| = 8.504106\n",
      "Iteration = 329, ||gradL(W)|| = 8.504106\n",
      "Iteration = 330, ||gradL(W)|| = 8.504106\n",
      "Iteration = 331, ||gradL(W)|| = 8.504106\n",
      "Iteration = 332, ||gradL(W)|| = 8.504106\n",
      "Iteration = 333, ||gradL(W)|| = 8.504106\n",
      "Iteration = 334, ||gradL(W)|| = 8.504106\n",
      "Iteration = 335, ||gradL(W)|| = 8.504106\n",
      "Iteration = 336, ||gradL(W)|| = 8.504106\n",
      "Iteration = 337, ||gradL(W)|| = 8.504106\n",
      "Iteration = 338, ||gradL(W)|| = 8.504106\n",
      "Iteration = 339, ||gradL(W)|| = 8.504106\n",
      "Iteration = 340, ||gradL(W)|| = 8.504106\n",
      "Iteration = 341, ||gradL(W)|| = 8.504106\n",
      "Iteration = 342, ||gradL(W)|| = 8.504106\n",
      "Iteration = 343, ||gradL(W)|| = 8.504106\n",
      "Iteration = 344, ||gradL(W)|| = 8.504106\n",
      "Iteration = 345, ||gradL(W)|| = 8.504106\n",
      "Iteration = 346, ||gradL(W)|| = 8.504106\n",
      "Iteration = 347, ||gradL(W)|| = 8.504106\n",
      "Iteration = 348, ||gradL(W)|| = 8.504106\n",
      "Iteration = 349, ||gradL(W)|| = 8.504106\n",
      "Iteration = 350, ||gradL(W)|| = 8.504106\n",
      "Iteration = 351, ||gradL(W)|| = 8.504106\n",
      "Iteration = 352, ||gradL(W)|| = 8.504106\n",
      "Iteration = 353, ||gradL(W)|| = 8.504106\n",
      "Iteration = 354, ||gradL(W)|| = 8.504106\n",
      "Iteration = 355, ||gradL(W)|| = 8.504106\n",
      "Iteration = 356, ||gradL(W)|| = 8.504106\n",
      "Iteration = 357, ||gradL(W)|| = 8.504106\n",
      "Iteration = 358, ||gradL(W)|| = 8.504106\n",
      "Iteration = 359, ||gradL(W)|| = 8.504106\n",
      "Iteration = 360, ||gradL(W)|| = 8.504106\n",
      "Iteration = 361, ||gradL(W)|| = 8.504106\n",
      "Iteration = 362, ||gradL(W)|| = 8.504106\n",
      "Iteration = 363, ||gradL(W)|| = 8.504106\n",
      "Iteration = 364, ||gradL(W)|| = 8.504106\n",
      "Iteration = 365, ||gradL(W)|| = 8.504106\n",
      "Iteration = 366, ||gradL(W)|| = 8.504106\n",
      "Iteration = 367, ||gradL(W)|| = 8.504106\n",
      "Iteration = 368, ||gradL(W)|| = 8.504106\n",
      "Iteration = 369, ||gradL(W)|| = 8.504106\n",
      "Iteration = 370, ||gradL(W)|| = 8.504106\n",
      "Iteration = 371, ||gradL(W)|| = 8.504106\n",
      "Iteration = 372, ||gradL(W)|| = 8.504106\n",
      "Iteration = 373, ||gradL(W)|| = 8.504106\n",
      "Iteration = 374, ||gradL(W)|| = 8.504106\n",
      "Iteration = 375, ||gradL(W)|| = 8.504106\n",
      "Iteration = 376, ||gradL(W)|| = 8.504106\n",
      "Iteration = 377, ||gradL(W)|| = 8.504106\n",
      "Iteration = 378, ||gradL(W)|| = 8.504106\n",
      "Iteration = 379, ||gradL(W)|| = 8.504106\n",
      "Iteration = 380, ||gradL(W)|| = 8.504106\n",
      "Iteration = 381, ||gradL(W)|| = 8.504106\n",
      "Iteration = 382, ||gradL(W)|| = 8.504106\n",
      "Iteration = 383, ||gradL(W)|| = 8.504106\n",
      "Iteration = 384, ||gradL(W)|| = 8.504106\n",
      "Iteration = 385, ||gradL(W)|| = 8.504106\n",
      "Iteration = 386, ||gradL(W)|| = 8.504106\n",
      "Iteration = 387, ||gradL(W)|| = 8.504106\n",
      "Iteration = 388, ||gradL(W)|| = 8.504106\n",
      "Iteration = 389, ||gradL(W)|| = 8.504106\n",
      "Iteration = 390, ||gradL(W)|| = 8.504106\n",
      "Iteration = 391, ||gradL(W)|| = 8.504106\n",
      "Iteration = 392, ||gradL(W)|| = 8.504106\n",
      "Iteration = 393, ||gradL(W)|| = 8.504106\n",
      "Iteration = 394, ||gradL(W)|| = 8.504106\n",
      "Iteration = 395, ||gradL(W)|| = 8.504106\n",
      "Iteration = 396, ||gradL(W)|| = 8.504106\n",
      "Iteration = 397, ||gradL(W)|| = 8.504106\n",
      "Iteration = 398, ||gradL(W)|| = 8.504106\n",
      "Iteration = 399, ||gradL(W)|| = 8.504106\n",
      "Iteration = 400, ||gradL(W)|| = 8.504106\n",
      "Iteration = 401, ||gradL(W)|| = 8.504106\n",
      "Iteration = 402, ||gradL(W)|| = 8.504106\n",
      "Iteration = 403, ||gradL(W)|| = 8.504106\n",
      "Iteration = 404, ||gradL(W)|| = 8.504106\n",
      "Iteration = 405, ||gradL(W)|| = 8.504106\n",
      "Iteration = 406, ||gradL(W)|| = 8.504106\n",
      "Iteration = 407, ||gradL(W)|| = 8.504106\n",
      "Iteration = 408, ||gradL(W)|| = 8.504106\n",
      "Iteration = 409, ||gradL(W)|| = 8.504106\n",
      "Iteration = 410, ||gradL(W)|| = 8.504106\n",
      "Iteration = 411, ||gradL(W)|| = 8.504106\n",
      "Iteration = 412, ||gradL(W)|| = 8.504106\n",
      "Iteration = 413, ||gradL(W)|| = 8.504106\n",
      "Iteration = 414, ||gradL(W)|| = 8.504106\n",
      "Iteration = 415, ||gradL(W)|| = 8.504106\n",
      "Iteration = 416, ||gradL(W)|| = 8.504106\n",
      "Iteration = 417, ||gradL(W)|| = 8.504106\n",
      "Iteration = 418, ||gradL(W)|| = 8.504106\n",
      "Iteration = 419, ||gradL(W)|| = 8.504106\n",
      "Iteration = 420, ||gradL(W)|| = 8.504106\n",
      "Iteration = 421, ||gradL(W)|| = 8.504106\n",
      "Iteration = 422, ||gradL(W)|| = 8.504106\n",
      "Iteration = 423, ||gradL(W)|| = 8.504106\n",
      "Iteration = 424, ||gradL(W)|| = 8.504106\n",
      "Iteration = 425, ||gradL(W)|| = 8.504106\n",
      "Iteration = 426, ||gradL(W)|| = 8.504106\n",
      "Iteration = 427, ||gradL(W)|| = 8.504106\n",
      "Iteration = 428, ||gradL(W)|| = 8.504106\n",
      "Iteration = 429, ||gradL(W)|| = 8.504106\n",
      "Iteration = 430, ||gradL(W)|| = 8.504106\n",
      "Iteration = 431, ||gradL(W)|| = 8.504106\n",
      "Iteration = 432, ||gradL(W)|| = 8.504106\n",
      "Iteration = 433, ||gradL(W)|| = 8.504106\n",
      "Iteration = 434, ||gradL(W)|| = 8.504106\n",
      "Iteration = 435, ||gradL(W)|| = 8.504106\n",
      "Iteration = 436, ||gradL(W)|| = 8.504106\n",
      "Iteration = 437, ||gradL(W)|| = 8.504106\n",
      "Iteration = 438, ||gradL(W)|| = 8.504106\n",
      "Iteration = 439, ||gradL(W)|| = 8.504106\n",
      "Iteration = 440, ||gradL(W)|| = 8.504106\n",
      "Iteration = 441, ||gradL(W)|| = 8.504106\n",
      "Iteration = 442, ||gradL(W)|| = 8.504106\n",
      "Iteration = 443, ||gradL(W)|| = 8.504106\n",
      "Iteration = 444, ||gradL(W)|| = 8.504106\n",
      "Iteration = 445, ||gradL(W)|| = 8.504106\n",
      "Iteration = 446, ||gradL(W)|| = 8.504106\n",
      "Iteration = 447, ||gradL(W)|| = 8.504106\n",
      "Iteration = 448, ||gradL(W)|| = 8.504106\n",
      "Iteration = 449, ||gradL(W)|| = 8.504106\n",
      "Iteration = 450, ||gradL(W)|| = 8.504106\n",
      "Iteration = 451, ||gradL(W)|| = 8.504106\n",
      "Iteration = 452, ||gradL(W)|| = 8.504106\n",
      "Iteration = 453, ||gradL(W)|| = 8.504106\n",
      "Iteration = 454, ||gradL(W)|| = 8.504106\n",
      "Iteration = 455, ||gradL(W)|| = 8.504106\n",
      "Iteration = 456, ||gradL(W)|| = 8.504106\n",
      "Iteration = 457, ||gradL(W)|| = 8.504106\n",
      "Iteration = 458, ||gradL(W)|| = 8.504106\n",
      "Iteration = 459, ||gradL(W)|| = 8.504106\n",
      "Iteration = 460, ||gradL(W)|| = 8.504106\n",
      "Iteration = 461, ||gradL(W)|| = 8.504106\n",
      "Iteration = 462, ||gradL(W)|| = 8.504106\n",
      "Iteration = 463, ||gradL(W)|| = 8.504106\n",
      "Iteration = 464, ||gradL(W)|| = 8.504106\n",
      "Iteration = 465, ||gradL(W)|| = 8.504106\n",
      "Iteration = 466, ||gradL(W)|| = 8.504106\n",
      "Iteration = 467, ||gradL(W)|| = 8.504106\n",
      "Iteration = 468, ||gradL(W)|| = 8.504106\n",
      "Iteration = 469, ||gradL(W)|| = 8.504106\n",
      "Iteration = 470, ||gradL(W)|| = 8.504106\n",
      "Iteration = 471, ||gradL(W)|| = 8.504106\n",
      "Iteration = 472, ||gradL(W)|| = 8.504106\n",
      "Iteration = 473, ||gradL(W)|| = 8.504106\n",
      "Iteration = 474, ||gradL(W)|| = 8.504106\n",
      "Iteration = 475, ||gradL(W)|| = 8.504106\n",
      "Iteration = 476, ||gradL(W)|| = 8.504106\n",
      "Iteration = 477, ||gradL(W)|| = 8.504106\n",
      "Iteration = 478, ||gradL(W)|| = 8.504106\n",
      "Iteration = 479, ||gradL(W)|| = 8.504106\n",
      "Iteration = 480, ||gradL(W)|| = 8.504106\n",
      "Iteration = 481, ||gradL(W)|| = 8.504106\n",
      "Iteration = 482, ||gradL(W)|| = 8.504106\n",
      "Iteration = 483, ||gradL(W)|| = 8.504106\n",
      "Iteration = 484, ||gradL(W)|| = 8.504106\n",
      "Iteration = 485, ||gradL(W)|| = 8.504106\n",
      "Iteration = 486, ||gradL(W)|| = 8.504106\n",
      "Iteration = 487, ||gradL(W)|| = 8.504106\n",
      "Iteration = 488, ||gradL(W)|| = 8.504106\n",
      "Iteration = 489, ||gradL(W)|| = 8.504106\n",
      "Iteration = 490, ||gradL(W)|| = 8.504106\n",
      "Iteration = 491, ||gradL(W)|| = 8.504106\n",
      "Iteration = 492, ||gradL(W)|| = 8.504106\n",
      "Iteration = 493, ||gradL(W)|| = 8.504106\n",
      "Iteration = 494, ||gradL(W)|| = 8.504106\n",
      "Iteration = 495, ||gradL(W)|| = 8.504106\n",
      "Iteration = 496, ||gradL(W)|| = 8.504106\n",
      "Iteration = 497, ||gradL(W)|| = 8.504106\n",
      "Iteration = 498, ||gradL(W)|| = 8.504106\n",
      "Iteration = 499, ||gradL(W)|| = 8.504106\n",
      "Iteration = 500, ||gradL(W)|| = 8.504106\n",
      "Iteration = 501, ||gradL(W)|| = 8.504106\n",
      "Iteration = 502, ||gradL(W)|| = 8.504106\n",
      "Iteration = 503, ||gradL(W)|| = 8.504106\n",
      "Iteration = 504, ||gradL(W)|| = 8.504106\n",
      "Iteration = 505, ||gradL(W)|| = 8.504106\n",
      "Iteration = 506, ||gradL(W)|| = 8.504106\n",
      "Iteration = 507, ||gradL(W)|| = 8.504106\n",
      "Iteration = 508, ||gradL(W)|| = 8.504106\n",
      "Iteration = 509, ||gradL(W)|| = 8.504106\n",
      "Iteration = 510, ||gradL(W)|| = 8.504106\n",
      "Iteration = 511, ||gradL(W)|| = 8.504106\n",
      "Iteration = 512, ||gradL(W)|| = 8.504106\n",
      "Iteration = 513, ||gradL(W)|| = 8.504106\n",
      "Iteration = 514, ||gradL(W)|| = 8.504106\n",
      "Iteration = 515, ||gradL(W)|| = 8.504106\n",
      "Iteration = 516, ||gradL(W)|| = 8.504106\n",
      "Iteration = 517, ||gradL(W)|| = 8.504106\n",
      "Iteration = 518, ||gradL(W)|| = 8.504106\n",
      "Iteration = 519, ||gradL(W)|| = 8.504106\n",
      "Iteration = 520, ||gradL(W)|| = 8.504106\n",
      "Iteration = 521, ||gradL(W)|| = 8.504106\n",
      "Iteration = 522, ||gradL(W)|| = 8.504106\n",
      "Iteration = 523, ||gradL(W)|| = 8.504106\n",
      "Iteration = 524, ||gradL(W)|| = 8.504106\n",
      "Iteration = 525, ||gradL(W)|| = 8.504106\n",
      "Iteration = 526, ||gradL(W)|| = 8.504106\n",
      "Iteration = 527, ||gradL(W)|| = 8.504106\n",
      "Iteration = 528, ||gradL(W)|| = 8.504106\n",
      "Iteration = 529, ||gradL(W)|| = 8.504106\n",
      "Iteration = 530, ||gradL(W)|| = 8.504106\n",
      "Iteration = 531, ||gradL(W)|| = 8.504106\n",
      "Iteration = 532, ||gradL(W)|| = 8.504106\n",
      "Iteration = 533, ||gradL(W)|| = 8.504106\n",
      "Iteration = 534, ||gradL(W)|| = 8.504106\n",
      "Iteration = 535, ||gradL(W)|| = 8.504106\n",
      "Iteration = 536, ||gradL(W)|| = 8.504106\n",
      "Iteration = 537, ||gradL(W)|| = 8.504106\n",
      "Iteration = 538, ||gradL(W)|| = 8.504106\n",
      "Iteration = 539, ||gradL(W)|| = 8.504106\n",
      "Iteration = 540, ||gradL(W)|| = 8.504106\n",
      "Iteration = 541, ||gradL(W)|| = 8.504106\n",
      "Iteration = 542, ||gradL(W)|| = 8.504106\n",
      "Iteration = 543, ||gradL(W)|| = 8.504106\n",
      "Iteration = 544, ||gradL(W)|| = 8.504106\n",
      "Iteration = 545, ||gradL(W)|| = 8.504106\n",
      "Iteration = 546, ||gradL(W)|| = 8.504106\n",
      "Iteration = 547, ||gradL(W)|| = 8.504106\n",
      "Iteration = 548, ||gradL(W)|| = 8.504106\n",
      "Iteration = 549, ||gradL(W)|| = 8.504106\n",
      "Iteration = 550, ||gradL(W)|| = 8.504106\n",
      "Iteration = 551, ||gradL(W)|| = 8.504106\n",
      "Iteration = 552, ||gradL(W)|| = 8.504106\n",
      "Iteration = 553, ||gradL(W)|| = 8.504106\n",
      "Iteration = 554, ||gradL(W)|| = 8.504106\n",
      "Iteration = 555, ||gradL(W)|| = 8.504106\n",
      "Iteration = 556, ||gradL(W)|| = 8.504106\n",
      "Iteration = 557, ||gradL(W)|| = 8.504106\n",
      "Iteration = 558, ||gradL(W)|| = 8.504106\n",
      "Iteration = 559, ||gradL(W)|| = 8.504106\n",
      "Iteration = 560, ||gradL(W)|| = 8.504106\n",
      "Iteration = 561, ||gradL(W)|| = 8.504106\n",
      "Iteration = 562, ||gradL(W)|| = 8.504106\n",
      "Iteration = 563, ||gradL(W)|| = 8.504106\n",
      "Iteration = 564, ||gradL(W)|| = 8.504106\n",
      "Iteration = 565, ||gradL(W)|| = 8.504106\n",
      "Iteration = 566, ||gradL(W)|| = 8.504106\n",
      "Iteration = 567, ||gradL(W)|| = 8.504106\n",
      "Iteration = 568, ||gradL(W)|| = 8.504106\n",
      "Iteration = 569, ||gradL(W)|| = 8.504106\n",
      "Iteration = 570, ||gradL(W)|| = 8.504106\n",
      "Iteration = 571, ||gradL(W)|| = 8.504106\n",
      "Iteration = 572, ||gradL(W)|| = 8.504106\n",
      "Iteration = 573, ||gradL(W)|| = 8.504106\n",
      "Iteration = 574, ||gradL(W)|| = 8.504106\n",
      "Iteration = 575, ||gradL(W)|| = 8.504106\n",
      "Iteration = 576, ||gradL(W)|| = 8.504106\n",
      "Iteration = 577, ||gradL(W)|| = 8.504106\n",
      "Iteration = 578, ||gradL(W)|| = 8.504106\n",
      "Iteration = 579, ||gradL(W)|| = 8.504106\n",
      "Iteration = 580, ||gradL(W)|| = 8.504106\n",
      "Iteration = 581, ||gradL(W)|| = 8.504106\n",
      "Iteration = 582, ||gradL(W)|| = 8.504106\n",
      "Iteration = 583, ||gradL(W)|| = 8.504106\n",
      "Iteration = 584, ||gradL(W)|| = 8.504106\n",
      "Iteration = 585, ||gradL(W)|| = 8.504106\n",
      "Iteration = 586, ||gradL(W)|| = 8.504106\n",
      "Iteration = 587, ||gradL(W)|| = 8.504106\n",
      "Iteration = 588, ||gradL(W)|| = 8.504106\n",
      "Iteration = 589, ||gradL(W)|| = 8.504106\n",
      "Iteration = 590, ||gradL(W)|| = 8.504106\n",
      "Iteration = 591, ||gradL(W)|| = 8.504106\n",
      "Iteration = 592, ||gradL(W)|| = 8.504106\n",
      "Iteration = 593, ||gradL(W)|| = 8.504106\n",
      "Iteration = 594, ||gradL(W)|| = 8.504106\n",
      "Iteration = 595, ||gradL(W)|| = 8.504106\n",
      "Iteration = 596, ||gradL(W)|| = 8.504106\n",
      "Iteration = 597, ||gradL(W)|| = 8.504106\n",
      "Iteration = 598, ||gradL(W)|| = 8.504106\n",
      "Iteration = 599, ||gradL(W)|| = 8.504106\n",
      "Iteration = 600, ||gradL(W)|| = 8.504106\n",
      "Iteration = 601, ||gradL(W)|| = 8.504106\n",
      "Iteration = 602, ||gradL(W)|| = 8.504106\n",
      "Iteration = 603, ||gradL(W)|| = 8.504106\n",
      "Iteration = 604, ||gradL(W)|| = 8.504106\n",
      "Iteration = 605, ||gradL(W)|| = 8.504106\n",
      "Iteration = 606, ||gradL(W)|| = 8.504106\n",
      "Iteration = 607, ||gradL(W)|| = 8.504106\n",
      "Iteration = 608, ||gradL(W)|| = 8.504106\n",
      "Iteration = 609, ||gradL(W)|| = 8.504106\n",
      "Iteration = 610, ||gradL(W)|| = 8.504106\n",
      "Iteration = 611, ||gradL(W)|| = 8.504106\n",
      "Iteration = 612, ||gradL(W)|| = 8.504106\n",
      "Iteration = 613, ||gradL(W)|| = 8.504106\n",
      "Iteration = 614, ||gradL(W)|| = 8.504106\n",
      "Iteration = 615, ||gradL(W)|| = 8.504106\n",
      "Iteration = 616, ||gradL(W)|| = 8.504106\n",
      "Iteration = 617, ||gradL(W)|| = 8.504106\n",
      "Iteration = 618, ||gradL(W)|| = 8.504106\n",
      "Iteration = 619, ||gradL(W)|| = 8.504106\n",
      "Iteration = 620, ||gradL(W)|| = 8.504106\n",
      "Iteration = 621, ||gradL(W)|| = 8.504106\n",
      "Iteration = 622, ||gradL(W)|| = 8.504106\n",
      "Iteration = 623, ||gradL(W)|| = 8.504106\n",
      "Iteration = 624, ||gradL(W)|| = 8.504106\n",
      "Iteration = 625, ||gradL(W)|| = 8.504106\n",
      "Iteration = 626, ||gradL(W)|| = 8.504106\n",
      "Iteration = 627, ||gradL(W)|| = 8.504106\n",
      "Iteration = 628, ||gradL(W)|| = 8.504106\n",
      "Iteration = 629, ||gradL(W)|| = 8.504106\n",
      "Iteration = 630, ||gradL(W)|| = 8.504106\n",
      "Iteration = 631, ||gradL(W)|| = 8.504106\n",
      "Iteration = 632, ||gradL(W)|| = 8.504106\n",
      "Iteration = 633, ||gradL(W)|| = 8.504106\n",
      "Iteration = 634, ||gradL(W)|| = 8.504106\n",
      "Iteration = 635, ||gradL(W)|| = 8.504106\n",
      "Iteration = 636, ||gradL(W)|| = 8.504106\n",
      "Iteration = 637, ||gradL(W)|| = 8.504106\n",
      "Iteration = 638, ||gradL(W)|| = 8.504106\n",
      "Iteration = 639, ||gradL(W)|| = 8.504106\n",
      "Iteration = 640, ||gradL(W)|| = 8.504106\n",
      "Iteration = 641, ||gradL(W)|| = 8.504106\n",
      "Iteration = 642, ||gradL(W)|| = 8.504106\n",
      "Iteration = 643, ||gradL(W)|| = 8.504106\n",
      "Iteration = 644, ||gradL(W)|| = 8.504106\n",
      "Iteration = 645, ||gradL(W)|| = 8.504106\n",
      "Iteration = 646, ||gradL(W)|| = 8.504106\n",
      "Iteration = 647, ||gradL(W)|| = 8.504106\n",
      "Iteration = 648, ||gradL(W)|| = 8.504106\n",
      "Iteration = 649, ||gradL(W)|| = 8.504106\n",
      "Iteration = 650, ||gradL(W)|| = 8.504106\n",
      "Iteration = 651, ||gradL(W)|| = 8.504106\n",
      "Iteration = 652, ||gradL(W)|| = 8.504106\n",
      "Iteration = 653, ||gradL(W)|| = 8.504106\n",
      "Iteration = 654, ||gradL(W)|| = 8.504106\n",
      "Iteration = 655, ||gradL(W)|| = 8.504106\n",
      "Iteration = 656, ||gradL(W)|| = 8.504106\n",
      "Iteration = 657, ||gradL(W)|| = 8.504106\n",
      "Iteration = 658, ||gradL(W)|| = 8.504106\n",
      "Iteration = 659, ||gradL(W)|| = 8.504106\n",
      "Iteration = 660, ||gradL(W)|| = 8.504106\n",
      "Iteration = 661, ||gradL(W)|| = 8.504106\n",
      "Iteration = 662, ||gradL(W)|| = 8.504106\n",
      "Iteration = 663, ||gradL(W)|| = 8.504106\n",
      "Iteration = 664, ||gradL(W)|| = 8.504106\n",
      "Iteration = 665, ||gradL(W)|| = 8.504106\n",
      "Iteration = 666, ||gradL(W)|| = 8.504106\n",
      "Iteration = 667, ||gradL(W)|| = 8.504106\n",
      "Iteration = 668, ||gradL(W)|| = 8.504106\n",
      "Iteration = 669, ||gradL(W)|| = 8.504106\n",
      "Iteration = 670, ||gradL(W)|| = 8.504106\n",
      "Iteration = 671, ||gradL(W)|| = 8.504106\n",
      "Iteration = 672, ||gradL(W)|| = 8.504106\n",
      "Iteration = 673, ||gradL(W)|| = 8.504106\n",
      "Iteration = 674, ||gradL(W)|| = 8.504106\n",
      "Iteration = 675, ||gradL(W)|| = 8.504106\n",
      "Iteration = 676, ||gradL(W)|| = 8.504106\n",
      "Iteration = 677, ||gradL(W)|| = 8.504106\n",
      "Iteration = 678, ||gradL(W)|| = 8.504106\n",
      "Iteration = 679, ||gradL(W)|| = 8.504106\n",
      "Iteration = 680, ||gradL(W)|| = 8.504106\n",
      "Iteration = 681, ||gradL(W)|| = 8.504106\n",
      "Iteration = 682, ||gradL(W)|| = 8.504106\n",
      "Iteration = 683, ||gradL(W)|| = 8.504106\n",
      "Iteration = 684, ||gradL(W)|| = 8.504106\n",
      "Iteration = 685, ||gradL(W)|| = 8.504106\n",
      "Iteration = 686, ||gradL(W)|| = 8.504106\n",
      "Iteration = 687, ||gradL(W)|| = 8.504106\n",
      "Iteration = 688, ||gradL(W)|| = 8.504106\n",
      "Iteration = 689, ||gradL(W)|| = 8.504106\n",
      "Iteration = 690, ||gradL(W)|| = 8.504106\n",
      "Iteration = 691, ||gradL(W)|| = 8.504106\n",
      "Iteration = 692, ||gradL(W)|| = 8.504106\n",
      "Iteration = 693, ||gradL(W)|| = 8.504106\n",
      "Iteration = 694, ||gradL(W)|| = 8.504106\n",
      "Iteration = 695, ||gradL(W)|| = 8.504106\n",
      "Iteration = 696, ||gradL(W)|| = 8.504106\n",
      "Iteration = 697, ||gradL(W)|| = 8.504106\n",
      "Iteration = 698, ||gradL(W)|| = 8.504106\n",
      "Iteration = 699, ||gradL(W)|| = 8.504106\n",
      "Iteration = 700, ||gradL(W)|| = 8.504106\n",
      "Iteration = 701, ||gradL(W)|| = 8.504106\n",
      "Iteration = 702, ||gradL(W)|| = 8.504106\n",
      "Iteration = 703, ||gradL(W)|| = 8.504106\n",
      "Iteration = 704, ||gradL(W)|| = 8.504106\n",
      "Iteration = 705, ||gradL(W)|| = 8.504106\n",
      "Iteration = 706, ||gradL(W)|| = 8.504106\n",
      "Iteration = 707, ||gradL(W)|| = 8.504106\n",
      "Iteration = 708, ||gradL(W)|| = 8.504106\n",
      "Iteration = 709, ||gradL(W)|| = 8.504106\n",
      "Iteration = 710, ||gradL(W)|| = 8.504106\n",
      "Iteration = 711, ||gradL(W)|| = 8.504106\n",
      "Iteration = 712, ||gradL(W)|| = 8.504106\n",
      "Iteration = 713, ||gradL(W)|| = 8.504106\n",
      "Iteration = 714, ||gradL(W)|| = 8.504106\n",
      "Iteration = 715, ||gradL(W)|| = 8.504106\n",
      "Iteration = 716, ||gradL(W)|| = 8.504106\n",
      "Iteration = 717, ||gradL(W)|| = 8.504106\n",
      "Iteration = 718, ||gradL(W)|| = 8.504106\n",
      "Iteration = 719, ||gradL(W)|| = 8.504106\n",
      "Iteration = 720, ||gradL(W)|| = 8.504106\n",
      "Iteration = 721, ||gradL(W)|| = 8.504106\n",
      "Iteration = 722, ||gradL(W)|| = 8.504106\n",
      "Iteration = 723, ||gradL(W)|| = 8.504106\n",
      "Iteration = 724, ||gradL(W)|| = 8.504106\n",
      "Iteration = 725, ||gradL(W)|| = 8.504106\n",
      "Iteration = 726, ||gradL(W)|| = 8.504106\n",
      "Iteration = 727, ||gradL(W)|| = 8.504106\n",
      "Iteration = 728, ||gradL(W)|| = 8.504106\n",
      "Iteration = 729, ||gradL(W)|| = 8.504106\n",
      "Iteration = 730, ||gradL(W)|| = 8.504106\n",
      "Iteration = 731, ||gradL(W)|| = 8.504106\n",
      "Iteration = 732, ||gradL(W)|| = 8.504106\n",
      "Iteration = 733, ||gradL(W)|| = 8.504106\n",
      "Iteration = 734, ||gradL(W)|| = 8.504106\n",
      "Iteration = 735, ||gradL(W)|| = 8.504106\n",
      "Iteration = 736, ||gradL(W)|| = 8.504106\n",
      "Iteration = 737, ||gradL(W)|| = 8.504106\n",
      "Iteration = 738, ||gradL(W)|| = 8.504106\n",
      "Iteration = 739, ||gradL(W)|| = 8.504106\n",
      "Iteration = 740, ||gradL(W)|| = 8.504106\n",
      "Iteration = 741, ||gradL(W)|| = 8.504106\n",
      "Iteration = 742, ||gradL(W)|| = 8.504106\n",
      "Iteration = 743, ||gradL(W)|| = 8.504106\n",
      "Iteration = 744, ||gradL(W)|| = 8.504106\n",
      "Iteration = 745, ||gradL(W)|| = 8.504106\n",
      "Iteration = 746, ||gradL(W)|| = 8.504106\n",
      "Iteration = 747, ||gradL(W)|| = 8.504106\n",
      "Iteration = 748, ||gradL(W)|| = 8.504106\n",
      "Iteration = 749, ||gradL(W)|| = 8.504106\n",
      "Iteration = 750, ||gradL(W)|| = 8.504106\n",
      "Iteration = 751, ||gradL(W)|| = 8.504106\n",
      "Iteration = 752, ||gradL(W)|| = 8.504106\n",
      "Iteration = 753, ||gradL(W)|| = 8.504106\n",
      "Iteration = 754, ||gradL(W)|| = 8.504106\n",
      "Iteration = 755, ||gradL(W)|| = 8.504106\n",
      "Iteration = 756, ||gradL(W)|| = 8.504106\n",
      "Iteration = 757, ||gradL(W)|| = 8.504106\n",
      "Iteration = 758, ||gradL(W)|| = 8.504106\n",
      "Iteration = 759, ||gradL(W)|| = 8.504106\n",
      "Iteration = 760, ||gradL(W)|| = 8.504106\n",
      "Iteration = 761, ||gradL(W)|| = 8.504106\n",
      "Iteration = 762, ||gradL(W)|| = 8.504106\n",
      "Iteration = 763, ||gradL(W)|| = 8.504106\n",
      "Iteration = 764, ||gradL(W)|| = 8.504106\n",
      "Iteration = 765, ||gradL(W)|| = 8.504106\n",
      "Iteration = 766, ||gradL(W)|| = 8.504106\n",
      "Iteration = 767, ||gradL(W)|| = 8.504106\n",
      "Iteration = 768, ||gradL(W)|| = 8.504106\n",
      "Iteration = 769, ||gradL(W)|| = 8.504106\n",
      "Iteration = 770, ||gradL(W)|| = 8.504106\n",
      "Iteration = 771, ||gradL(W)|| = 8.504106\n",
      "Iteration = 772, ||gradL(W)|| = 8.504106\n",
      "Iteration = 773, ||gradL(W)|| = 8.504106\n",
      "Iteration = 774, ||gradL(W)|| = 8.504106\n",
      "Iteration = 775, ||gradL(W)|| = 8.504106\n",
      "Iteration = 776, ||gradL(W)|| = 8.504106\n",
      "Iteration = 777, ||gradL(W)|| = 8.504106\n",
      "Iteration = 778, ||gradL(W)|| = 8.504106\n",
      "Iteration = 779, ||gradL(W)|| = 8.504106\n",
      "Iteration = 780, ||gradL(W)|| = 8.504106\n",
      "Iteration = 781, ||gradL(W)|| = 8.504106\n",
      "Iteration = 782, ||gradL(W)|| = 8.504106\n",
      "Iteration = 783, ||gradL(W)|| = 8.504106\n",
      "Iteration = 784, ||gradL(W)|| = 8.504106\n",
      "Iteration = 785, ||gradL(W)|| = 8.504106\n",
      "Iteration = 786, ||gradL(W)|| = 8.504106\n",
      "Iteration = 787, ||gradL(W)|| = 8.504106\n",
      "Iteration = 788, ||gradL(W)|| = 8.504106\n",
      "Iteration = 789, ||gradL(W)|| = 8.504106\n",
      "Iteration = 790, ||gradL(W)|| = 8.504106\n",
      "Iteration = 791, ||gradL(W)|| = 8.504106\n",
      "Iteration = 792, ||gradL(W)|| = 8.504106\n",
      "Iteration = 793, ||gradL(W)|| = 8.504106\n",
      "Iteration = 794, ||gradL(W)|| = 8.504106\n",
      "Iteration = 795, ||gradL(W)|| = 8.504106\n",
      "Iteration = 796, ||gradL(W)|| = 8.504106\n",
      "Iteration = 797, ||gradL(W)|| = 8.504106\n",
      "Iteration = 798, ||gradL(W)|| = 8.504106\n",
      "Iteration = 799, ||gradL(W)|| = 8.504106\n",
      "Iteration = 800, ||gradL(W)|| = 8.504106\n",
      "Iteration = 801, ||gradL(W)|| = 8.504106\n",
      "Iteration = 802, ||gradL(W)|| = 8.504106\n",
      "Iteration = 803, ||gradL(W)|| = 8.504106\n",
      "Iteration = 804, ||gradL(W)|| = 8.504106\n",
      "Iteration = 805, ||gradL(W)|| = 8.504106\n",
      "Iteration = 806, ||gradL(W)|| = 8.504106\n",
      "Iteration = 807, ||gradL(W)|| = 8.504106\n",
      "Iteration = 808, ||gradL(W)|| = 8.504106\n",
      "Iteration = 809, ||gradL(W)|| = 8.504106\n",
      "Iteration = 810, ||gradL(W)|| = 8.504106\n",
      "Iteration = 811, ||gradL(W)|| = 8.504106\n",
      "Iteration = 812, ||gradL(W)|| = 8.504106\n",
      "Iteration = 813, ||gradL(W)|| = 8.504106\n",
      "Iteration = 814, ||gradL(W)|| = 8.504106\n",
      "Iteration = 815, ||gradL(W)|| = 8.504106\n",
      "Iteration = 816, ||gradL(W)|| = 8.504106\n",
      "Iteration = 817, ||gradL(W)|| = 8.504106\n",
      "Iteration = 818, ||gradL(W)|| = 8.504106\n",
      "Iteration = 819, ||gradL(W)|| = 8.504106\n",
      "Iteration = 820, ||gradL(W)|| = 8.504106\n",
      "Iteration = 821, ||gradL(W)|| = 8.504106\n",
      "Iteration = 822, ||gradL(W)|| = 8.504106\n",
      "Iteration = 823, ||gradL(W)|| = 8.504106\n",
      "Iteration = 824, ||gradL(W)|| = 8.504106\n",
      "Iteration = 825, ||gradL(W)|| = 8.504106\n",
      "Iteration = 826, ||gradL(W)|| = 8.504106\n",
      "Iteration = 827, ||gradL(W)|| = 8.504106\n",
      "Iteration = 828, ||gradL(W)|| = 8.504106\n",
      "Iteration = 829, ||gradL(W)|| = 8.504106\n",
      "Iteration = 830, ||gradL(W)|| = 8.504106\n",
      "Iteration = 831, ||gradL(W)|| = 8.504106\n",
      "Iteration = 832, ||gradL(W)|| = 8.504106\n",
      "Iteration = 833, ||gradL(W)|| = 8.504106\n",
      "Iteration = 834, ||gradL(W)|| = 8.504106\n",
      "Iteration = 835, ||gradL(W)|| = 8.504106\n",
      "Iteration = 836, ||gradL(W)|| = 8.504106\n",
      "Iteration = 837, ||gradL(W)|| = 8.504106\n",
      "Iteration = 838, ||gradL(W)|| = 8.504106\n",
      "Iteration = 839, ||gradL(W)|| = 8.504106\n",
      "Iteration = 840, ||gradL(W)|| = 8.504106\n",
      "Iteration = 841, ||gradL(W)|| = 8.504106\n",
      "Iteration = 842, ||gradL(W)|| = 8.504106\n",
      "Iteration = 843, ||gradL(W)|| = 8.504106\n",
      "Iteration = 844, ||gradL(W)|| = 8.504106\n",
      "Iteration = 845, ||gradL(W)|| = 8.504106\n",
      "Iteration = 846, ||gradL(W)|| = 8.504106\n",
      "Iteration = 847, ||gradL(W)|| = 8.504106\n",
      "Iteration = 848, ||gradL(W)|| = 8.504106\n",
      "Iteration = 849, ||gradL(W)|| = 8.504106\n",
      "Iteration = 850, ||gradL(W)|| = 8.504106\n",
      "Iteration = 851, ||gradL(W)|| = 8.504106\n",
      "Iteration = 852, ||gradL(W)|| = 8.504106\n",
      "Iteration = 853, ||gradL(W)|| = 8.504106\n",
      "Iteration = 854, ||gradL(W)|| = 8.504106\n",
      "Iteration = 855, ||gradL(W)|| = 8.504106\n",
      "Iteration = 856, ||gradL(W)|| = 8.504106\n",
      "Iteration = 857, ||gradL(W)|| = 8.504106\n",
      "Iteration = 858, ||gradL(W)|| = 8.504106\n",
      "Iteration = 859, ||gradL(W)|| = 8.504106\n",
      "Iteration = 860, ||gradL(W)|| = 8.504106\n",
      "Iteration = 861, ||gradL(W)|| = 8.504106\n",
      "Iteration = 862, ||gradL(W)|| = 8.504106\n",
      "Iteration = 863, ||gradL(W)|| = 8.504106\n",
      "Iteration = 864, ||gradL(W)|| = 8.504106\n",
      "Iteration = 865, ||gradL(W)|| = 8.504106\n",
      "Iteration = 866, ||gradL(W)|| = 8.504106\n",
      "Iteration = 867, ||gradL(W)|| = 8.504106\n",
      "Iteration = 868, ||gradL(W)|| = 8.504106\n",
      "Iteration = 869, ||gradL(W)|| = 8.504106\n",
      "Iteration = 870, ||gradL(W)|| = 8.504106\n",
      "Iteration = 871, ||gradL(W)|| = 8.504106\n",
      "Iteration = 872, ||gradL(W)|| = 8.504106\n",
      "Iteration = 873, ||gradL(W)|| = 8.504106\n",
      "Iteration = 874, ||gradL(W)|| = 8.504106\n",
      "Iteration = 875, ||gradL(W)|| = 8.504106\n",
      "Iteration = 876, ||gradL(W)|| = 8.504106\n",
      "Iteration = 877, ||gradL(W)|| = 8.504106\n",
      "Iteration = 878, ||gradL(W)|| = 8.504106\n",
      "Iteration = 879, ||gradL(W)|| = 8.504106\n",
      "Iteration = 880, ||gradL(W)|| = 8.504106\n",
      "Iteration = 881, ||gradL(W)|| = 8.504106\n",
      "Iteration = 882, ||gradL(W)|| = 8.504106\n",
      "Iteration = 883, ||gradL(W)|| = 8.504106\n",
      "Iteration = 884, ||gradL(W)|| = 8.504106\n",
      "Iteration = 885, ||gradL(W)|| = 8.504106\n",
      "Iteration = 886, ||gradL(W)|| = 8.504106\n",
      "Iteration = 887, ||gradL(W)|| = 8.504106\n",
      "Iteration = 888, ||gradL(W)|| = 8.504106\n",
      "Iteration = 889, ||gradL(W)|| = 8.504106\n",
      "Iteration = 890, ||gradL(W)|| = 8.504106\n",
      "Iteration = 891, ||gradL(W)|| = 8.504106\n",
      "Iteration = 892, ||gradL(W)|| = 8.504106\n",
      "Iteration = 893, ||gradL(W)|| = 8.504106\n",
      "Iteration = 894, ||gradL(W)|| = 8.504106\n",
      "Iteration = 895, ||gradL(W)|| = 8.504106\n",
      "Iteration = 896, ||gradL(W)|| = 8.504106\n",
      "Iteration = 897, ||gradL(W)|| = 8.504106\n",
      "Iteration = 898, ||gradL(W)|| = 8.504106\n",
      "Iteration = 899, ||gradL(W)|| = 8.504106\n",
      "Iteration = 900, ||gradL(W)|| = 8.504106\n",
      "Iteration = 901, ||gradL(W)|| = 8.504106\n",
      "Iteration = 902, ||gradL(W)|| = 8.504106\n",
      "Iteration = 903, ||gradL(W)|| = 8.504106\n",
      "Iteration = 904, ||gradL(W)|| = 8.504106\n",
      "Iteration = 905, ||gradL(W)|| = 8.504106\n",
      "Iteration = 906, ||gradL(W)|| = 8.504106\n",
      "Iteration = 907, ||gradL(W)|| = 8.504106\n",
      "Iteration = 908, ||gradL(W)|| = 8.504106\n",
      "Iteration = 909, ||gradL(W)|| = 8.504106\n",
      "Iteration = 910, ||gradL(W)|| = 8.504106\n",
      "Iteration = 911, ||gradL(W)|| = 8.504106\n",
      "Iteration = 912, ||gradL(W)|| = 8.504106\n",
      "Iteration = 913, ||gradL(W)|| = 8.504106\n",
      "Iteration = 914, ||gradL(W)|| = 8.504106\n",
      "Iteration = 915, ||gradL(W)|| = 8.504106\n",
      "Iteration = 916, ||gradL(W)|| = 8.504106\n",
      "Iteration = 917, ||gradL(W)|| = 8.504106\n",
      "Iteration = 918, ||gradL(W)|| = 8.504106\n",
      "Iteration = 919, ||gradL(W)|| = 8.504106\n",
      "Iteration = 920, ||gradL(W)|| = 8.504106\n",
      "Iteration = 921, ||gradL(W)|| = 8.504106\n",
      "Iteration = 922, ||gradL(W)|| = 8.504106\n",
      "Iteration = 923, ||gradL(W)|| = 8.504106\n",
      "Iteration = 924, ||gradL(W)|| = 8.504106\n",
      "Iteration = 925, ||gradL(W)|| = 8.504106\n",
      "Iteration = 926, ||gradL(W)|| = 8.504106\n",
      "Iteration = 927, ||gradL(W)|| = 8.504106\n",
      "Iteration = 928, ||gradL(W)|| = 8.504106\n",
      "Iteration = 929, ||gradL(W)|| = 8.504106\n",
      "Iteration = 930, ||gradL(W)|| = 8.504106\n",
      "Iteration = 931, ||gradL(W)|| = 8.504106\n",
      "Iteration = 932, ||gradL(W)|| = 8.504106\n",
      "Iteration = 933, ||gradL(W)|| = 8.504106\n",
      "Iteration = 934, ||gradL(W)|| = 8.504106\n",
      "Iteration = 935, ||gradL(W)|| = 8.504106\n",
      "Iteration = 936, ||gradL(W)|| = 8.504106\n",
      "Iteration = 937, ||gradL(W)|| = 8.504106\n",
      "Iteration = 938, ||gradL(W)|| = 8.504106\n",
      "Iteration = 939, ||gradL(W)|| = 8.504106\n",
      "Iteration = 940, ||gradL(W)|| = 8.504106\n",
      "Iteration = 941, ||gradL(W)|| = 8.504106\n",
      "Iteration = 942, ||gradL(W)|| = 8.504106\n",
      "Iteration = 943, ||gradL(W)|| = 8.504106\n",
      "Iteration = 944, ||gradL(W)|| = 8.504106\n",
      "Iteration = 945, ||gradL(W)|| = 8.504106\n",
      "Iteration = 946, ||gradL(W)|| = 8.504106\n",
      "Iteration = 947, ||gradL(W)|| = 8.504106\n",
      "Iteration = 948, ||gradL(W)|| = 8.504106\n",
      "Iteration = 949, ||gradL(W)|| = 8.504106\n",
      "Iteration = 950, ||gradL(W)|| = 8.504106\n",
      "Iteration = 951, ||gradL(W)|| = 8.504106\n",
      "Iteration = 952, ||gradL(W)|| = 8.504106\n",
      "Iteration = 953, ||gradL(W)|| = 8.504106\n",
      "Iteration = 954, ||gradL(W)|| = 8.504106\n",
      "Iteration = 955, ||gradL(W)|| = 8.504106\n",
      "Iteration = 956, ||gradL(W)|| = 8.504106\n",
      "Iteration = 957, ||gradL(W)|| = 8.504106\n",
      "Iteration = 958, ||gradL(W)|| = 8.504106\n",
      "Iteration = 959, ||gradL(W)|| = 8.504106\n",
      "Iteration = 960, ||gradL(W)|| = 8.504106\n",
      "Iteration = 961, ||gradL(W)|| = 8.504106\n",
      "Iteration = 962, ||gradL(W)|| = 8.504106\n",
      "Iteration = 963, ||gradL(W)|| = 8.504106\n",
      "Iteration = 964, ||gradL(W)|| = 8.504106\n",
      "Iteration = 965, ||gradL(W)|| = 8.504106\n",
      "Iteration = 966, ||gradL(W)|| = 8.504106\n",
      "Iteration = 967, ||gradL(W)|| = 8.504106\n",
      "Iteration = 968, ||gradL(W)|| = 8.504106\n",
      "Iteration = 969, ||gradL(W)|| = 8.504106\n",
      "Iteration = 970, ||gradL(W)|| = 8.504106\n",
      "Iteration = 971, ||gradL(W)|| = 8.504106\n",
      "Iteration = 972, ||gradL(W)|| = 8.504106\n",
      "Iteration = 973, ||gradL(W)|| = 8.504106\n",
      "Iteration = 974, ||gradL(W)|| = 8.504106\n",
      "Iteration = 975, ||gradL(W)|| = 8.504106\n",
      "Iteration = 976, ||gradL(W)|| = 8.504106\n",
      "Iteration = 977, ||gradL(W)|| = 8.504106\n",
      "Iteration = 978, ||gradL(W)|| = 8.504106\n",
      "Iteration = 979, ||gradL(W)|| = 8.504106\n",
      "Iteration = 980, ||gradL(W)|| = 8.504106\n",
      "Iteration = 981, ||gradL(W)|| = 8.504106\n",
      "Iteration = 982, ||gradL(W)|| = 8.504106\n",
      "Iteration = 983, ||gradL(W)|| = 8.504106\n",
      "Iteration = 984, ||gradL(W)|| = 8.504106\n",
      "Iteration = 985, ||gradL(W)|| = 8.504106\n",
      "Iteration = 986, ||gradL(W)|| = 8.504106\n",
      "Iteration = 987, ||gradL(W)|| = 8.504106\n",
      "Iteration = 988, ||gradL(W)|| = 8.504106\n",
      "Iteration = 989, ||gradL(W)|| = 8.504106\n",
      "Iteration = 990, ||gradL(W)|| = 8.504106\n",
      "Iteration = 991, ||gradL(W)|| = 8.504106\n",
      "Iteration = 992, ||gradL(W)|| = 8.504106\n",
      "Iteration = 993, ||gradL(W)|| = 8.504106\n",
      "Iteration = 994, ||gradL(W)|| = 8.504106\n",
      "Iteration = 995, ||gradL(W)|| = 8.504106\n",
      "Iteration = 996, ||gradL(W)|| = 8.504106\n",
      "Iteration = 997, ||gradL(W)|| = 8.504106\n",
      "Iteration = 998, ||gradL(W)|| = 8.504106\n",
      "Iteration = 999, ||gradL(W)|| = 8.504106\n",
      "Iteration = 1000, ||gradL(W)|| = 8.504106\n"
     ]
    }
   ],
   "source": [
    "alpha = 1e-02 # learning rate\n",
    "tol = 1e-05 # stopping tolerance\n",
    "iter = 0\n",
    "maxiter = 1000\n",
    "\n",
    "while np.linalg.norm(dW) >tol and iter< maxiter:\n",
    "  W = W + alpha*(-dW)\n",
    "  iter = iter+1\n",
    "  print('Iteration = %d, ||gradL(W)|| = %f'%(iter, np.linalg.norm(dW) ))"
   ]
  },
  {
   "cell_type": "markdown",
   "id": "NJxvRKDPFESC",
   "metadata": {
    "id": "NJxvRKDPFESC"
   },
   "source": [
    "---\n",
    "\n",
    "TensorFlow includes a low-level API known as TensorFlow core and many high-level APIs, including Keras (tf.keras).\n",
    "\n",
    "Now we will focus on the TensorFlow low-level API starting with *TensorFlow constants* (https://www.tensorflow.org/guide/tensor) which have the following proprties:\n",
    "\n",
    "1. Values are stored at the time of defining the tensor\n",
    "2. Immutable\n",
    "\n",
    "---"
   ]
  },
  {
   "cell_type": "code",
   "execution_count": 46,
   "id": "k8XDUQasFdui",
   "metadata": {
    "id": "k8XDUQasFdui"
   },
   "outputs": [
    {
     "name": "stdout",
     "output_type": "stream",
     "text": [
      "tf.Tensor(5.0, shape=(), dtype=float16)\n",
      "tf.Tensor(8.0, shape=(), dtype=float16)\n",
      "tf.Tensor(10.0, shape=(), dtype=float16)\n",
      "tf.Tensor(\n",
      "[[2. 1. 4. 3.]\n",
      " [1. 2. 3. 4.]\n",
      " [4. 3. 2. 1.]], shape=(3, 4), dtype=float32)\n"
     ]
    }
   ],
   "source": [
    "T1 = tf.constant(5.0, dtype = tf.float16, name = 't1')\n",
    "T2 = tf.constant(8.0, dtype = tf.float16, name = 't2')\n",
    "T3 = tf.constant(10.0, dtype = tf.float16, name = 't3')\n",
    "T4 = tf.constant([[2, 1, 4, 3], [1, 2, 3, 4], [4, 3, 2, 1]], dtype = tf.float32, name = 't4')\n",
    "\n",
    "print(T1)\n",
    "print(T2)\n",
    "print(T3)\n",
    "print(T4)"
   ]
  },
  {
   "cell_type": "markdown",
   "id": "L7qHsHEnD4vc",
   "metadata": {
    "id": "L7qHsHEnD4vc"
   },
   "source": [
    "---\n",
    "\n",
    "Elementwise operations on constant tensors\n",
    "\n",
    "---"
   ]
  },
  {
   "cell_type": "code",
   "execution_count": 47,
   "id": "Q9XIPhrBD-Tw",
   "metadata": {
    "id": "Q9XIPhrBD-Tw"
   },
   "outputs": [
    {
     "name": "stdout",
     "output_type": "stream",
     "text": [
      "tf.Tensor(13.0, shape=(), dtype=float16)\n",
      "tf.Tensor(-3.0, shape=(), dtype=float16)\n"
     ]
    }
   ],
   "source": [
    "print(T1+T2)\n",
    "print(T1-T2)"
   ]
  },
  {
   "cell_type": "markdown",
   "id": "PFHaxm0lEadg",
   "metadata": {
    "id": "PFHaxm0lEadg"
   },
   "source": [
    "---\n",
    "\n",
    "Built-in operations\n",
    "\n",
    "---"
   ]
  },
  {
   "cell_type": "code",
   "execution_count": 48,
   "id": "HC0M09CWEdq2",
   "metadata": {
    "id": "HC0M09CWEdq2"
   },
   "outputs": [
    {
     "name": "stdout",
     "output_type": "stream",
     "text": [
      "tf.Tensor(13.0, shape=(), dtype=float16)\n",
      "tf.Tensor(\n",
      "[[ 7.39  2.72 54.6  20.09]\n",
      " [ 2.72  7.39 20.09 54.6 ]\n",
      " [54.6  20.09  7.39  2.72]], shape=(3, 4), dtype=float32)\n"
     ]
    }
   ],
   "source": [
    "op1 = tf.add(T1, T2)\n",
    "op2 = tf.exp(T4)\n",
    "print(op1)\n",
    "print(op2)"
   ]
  },
  {
   "cell_type": "markdown",
   "id": "o298a8PsGXT_",
   "metadata": {
    "id": "o298a8PsGXT_"
   },
   "source": [
    "---\n",
    "\n",
    "TensorFlow session is applicable only for **TensorFlow version 1** which allows for defining a computation (data flow) graph such that the nodes are the operations and edges are the tensors followed by an execution of the graph.\n",
    "\n",
    "**TensorFlow version 2** has eager execution (execute immediately withut creating a session).\n",
    "\n",
    "If version 1 is to be used then, we import TensorFlow as follows:\n",
    "\n",
    "$$\\begin{align*}&\\texttt{import tensorflow.compat.v1 as tf}\\\\&\\texttt{\n",
    "tf.disable_v2_behavior()}\\end{align*}$$\n",
    "\n",
    "or eager execution in version 2 can be disabled using $$\\begin{align*}&\\texttt{import tensorflow as tf}\\\\&\\texttt{tf.compat.v1.disable_eager_execution()}\\end{align*}$$\n",
    "\n",
    "----"
   ]
  },
  {
   "cell_type": "code",
   "execution_count": 49,
   "id": "LR6V-3qxMbkT",
   "metadata": {
    "id": "LR6V-3qxMbkT"
   },
   "outputs": [
    {
     "name": "stdout",
     "output_type": "stream",
     "text": [
      "WARNING:tensorflow:From C:\\Users\\Semi\\AppData\\Local\\Temp\\ipykernel_6512\\2096210521.py:2: The name tf.disable_v2_behavior is deprecated. Please use tf.compat.v1.disable_v2_behavior instead.\n",
      "\n",
      "WARNING:tensorflow:From C:\\Users\\Semi\\anaconda3\\lib\\site-packages\\tensorflow\\python\\compat\\v2_compat.py:108: disable_resource_variables (from tensorflow.python.ops.variable_scope) is deprecated and will be removed in a future version.\n",
      "Instructions for updating:\n",
      "non-resource variables are not supported in the long term\n"
     ]
    },
    {
     "data": {
      "text/plain": [
       "'2.15.0'"
      ]
     },
     "execution_count": 49,
     "metadata": {},
     "output_type": "execute_result"
    }
   ],
   "source": [
    "import tensorflow.compat.v1 as tf\n",
    "tf.disable_v2_behavior()\n",
    "tf.__version__"
   ]
  },
  {
   "cell_type": "code",
   "execution_count": 50,
   "id": "Dk9A2mzaGaBJ",
   "metadata": {
    "id": "Dk9A2mzaGaBJ"
   },
   "outputs": [
    {
     "name": "stdout",
     "output_type": "stream",
     "text": [
      "Tensor(\"Add:0\", shape=(), dtype=float16)\n",
      "Tensor(\"Exp:0\", shape=(3, 4), dtype=float32)\n",
      "13.0\n",
      "[[ 7.39  2.72 54.6  20.09]\n",
      " [ 2.72  7.39 20.09 54.6 ]\n",
      " [54.6  20.09  7.39  2.72]]\n"
     ]
    }
   ],
   "source": [
    "T1 = tf.constant(5.0, dtype = tf.float16, name = 't1')\n",
    "T2 = tf.constant(8.0, dtype = tf.float16, name = 't2')\n",
    "T4 = tf.constant([[2, 1, 4, 3], [1, 2, 3, 4], [4, 3, 2, 1]], dtype = tf.float32, name = 't4')\n",
    "op1 = tf.add(T1, T2)\n",
    "op2 = tf.exp(T4)\n",
    "print(op1)\n",
    "print(op2)\n",
    "with tf.Session() as sess:\n",
    "  print(sess.run(op1))\n",
    "  print(sess.run(op2))"
   ]
  },
  {
   "cell_type": "markdown",
   "id": "pMv5QzcMFyqD",
   "metadata": {
    "id": "pMv5QzcMFyqD"
   },
   "source": [
    "---\n",
    "\n",
    "Placeholders (applicable only for **TensorFlow version 1**):  a TensorFlow computation graph can be parameterized to accept external inputs (such as input data for a machine learning algorithm) during runtime using placeholders. That is, placeholders let are empty tensors whose values can be provided at runtime.\n",
    "\n",
    "---\n",
    "\n"
   ]
  },
  {
   "cell_type": "code",
   "execution_count": 51,
   "id": "BLY-tdRIF1PG",
   "metadata": {
    "id": "BLY-tdRIF1PG"
   },
   "outputs": [
    {
     "name": "stdout",
     "output_type": "stream",
     "text": [
      "mutiply:  5.0\n",
      "add:  6.0\n"
     ]
    }
   ],
   "source": [
    "T1 = tf.placeholder(tf.float32)\n",
    "T2 = tf.placeholder(tf.float32)\n",
    "# Define some operations\n",
    "op1 = T1 + T2\n",
    "op2 = T1 * T2\n",
    "with tf.Session() as sess:\n",
    "  print('mutiply: ', sess.run(op1, feed_dict = {T1: 2, T2: 3}))\n",
    "  print('add: ', sess.run(op2, feed_dict = {T1: 2, T2: 3}))"
   ]
  },
  {
   "cell_type": "markdown",
   "id": "050j_5J2Nah7",
   "metadata": {
    "id": "050j_5J2Nah7"
   },
   "source": [
    "---\n",
    "\n",
    "Re-import TensorFlow version 2\n",
    "\n",
    "---"
   ]
  },
  {
   "cell_type": "code",
   "execution_count": 52,
   "id": "ZOKh7MMnNaGT",
   "metadata": {
    "id": "ZOKh7MMnNaGT"
   },
   "outputs": [
    {
     "data": {
      "text/plain": [
       "'2.15.0'"
      ]
     },
     "execution_count": 52,
     "metadata": {},
     "output_type": "execute_result"
    }
   ],
   "source": [
    "import tensorflow as tf\n",
    "tf.__version__"
   ]
  },
  {
   "cell_type": "markdown",
   "id": "1BU193KqGNaC",
   "metadata": {
    "id": "1BU193KqGNaC"
   },
   "source": [
    "---\n",
    "\n",
    "Tensors from other Python objects such as lists, NumPy arrays, and pandas DataFrames using tf.convert_to_tensor()\n",
    "\n",
    "---"
   ]
  },
  {
   "cell_type": "code",
   "execution_count": 53,
   "id": "cHvb1OOUGRJc",
   "metadata": {
    "id": "cHvb1OOUGRJc"
   },
   "outputs": [
    {
     "name": "stdout",
     "output_type": "stream",
     "text": [
      "Tensor(\"Const:0\", shape=(4,), dtype=float64)\n"
     ]
    }
   ],
   "source": [
    "T = tf.convert_to_tensor(np.array([1, 2, 3, 4]), dtype = tf.float64)\n",
    "print(T)"
   ]
  },
  {
   "cell_type": "markdown",
   "id": "xdMtCNxXGRg7",
   "metadata": {
    "id": "xdMtCNxXGRg7"
   },
   "source": [
    "---\n",
    "\n",
    "Variables (https://www.tensorflow.org/guide/variable)\n",
    "\n",
    "---"
   ]
  },
  {
   "cell_type": "code",
   "execution_count": null,
   "id": "iXBvDD0SGfOD",
   "metadata": {
    "id": "iXBvDD0SGfOD"
   },
   "outputs": [],
   "source": []
  },
  {
   "cell_type": "markdown",
   "id": "GzFSQ-9VGfhs",
   "metadata": {
    "id": "GzFSQ-9VGfhs"
   },
   "source": [
    "---\n",
    "\n",
    "Automatic differentiation using TF (https://www.tensorflow.org/guide/autodiff)\n",
    "\n",
    "Example: calculate the sensitivity of $L(w) = 4w+w^3$ w.r.t. the input $w$ at $w=1.$\n",
    "\n",
    "Sensitivity $\\nabla_wL = 4+3w^2,$ which at $w=1$ is equal to $4+3\\times1^2=7.$\n",
    "\n",
    "---"
   ]
  },
  {
   "cell_type": "code",
   "execution_count": null,
   "id": "BPaQg5NaGkQ9",
   "metadata": {
    "id": "BPaQg5NaGkQ9"
   },
   "outputs": [],
   "source": []
  }
 ],
 "metadata": {
  "colab": {
   "provenance": []
  },
  "kernelspec": {
   "display_name": "Python 3 (ipykernel)",
   "language": "python",
   "name": "python3"
  },
  "language_info": {
   "codemirror_mode": {
    "name": "ipython",
    "version": 3
   },
   "file_extension": ".py",
   "mimetype": "text/x-python",
   "name": "python",
   "nbconvert_exporter": "python",
   "pygments_lexer": "ipython3",
   "version": "3.10.9"
  },
  "required_libs": []
 },
 "nbformat": 4,
 "nbformat_minor": 5
}
