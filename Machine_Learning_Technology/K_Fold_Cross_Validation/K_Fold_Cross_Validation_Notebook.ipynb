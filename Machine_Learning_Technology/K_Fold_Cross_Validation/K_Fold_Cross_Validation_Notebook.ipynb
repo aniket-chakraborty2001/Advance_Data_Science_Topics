{
  "nbformat": 4,
  "nbformat_minor": 0,
  "metadata": {
    "colab": {
      "provenance": []
    },
    "kernelspec": {
      "name": "python3",
      "display_name": "Python 3"
    },
    "language_info": {
      "name": "python"
    }
  },
  "cells": [
    {
      "cell_type": "code",
      "execution_count": 1,
      "metadata": {
        "id": "4JdcDgVtjm-d"
      },
      "outputs": [],
      "source": [
        "# Importing required packages\n",
        "import numpy as np\n",
        "import pandas as pd\n",
        "import matplotlib.pyplot as plt\n",
        "import seaborn as sns\n",
        "from sklearn.model_selection import train_test_split\n",
        "from sklearn.linear_model import LogisticRegression\n",
        "from sklearn.svm import SVC\n",
        "from sklearn.ensemble import RandomForestClassifier"
      ]
    },
    {
      "cell_type": "code",
      "source": [
        "# Importing the digits data set as digit_data\n",
        "from sklearn.datasets import load_digits\n",
        "digit_data = load_digits()\n",
        "dir(digit_data)"
      ],
      "metadata": {
        "colab": {
          "base_uri": "https://localhost:8080/"
        },
        "id": "dawAcnull2GT",
        "outputId": "79d97454-d13a-4d42-8742-f1ef4dea8847"
      },
      "execution_count": 2,
      "outputs": [
        {
          "output_type": "execute_result",
          "data": {
            "text/plain": [
              "['DESCR', 'data', 'feature_names', 'frame', 'images', 'target', 'target_names']"
            ]
          },
          "metadata": {},
          "execution_count": 2
        }
      ]
    },
    {
      "cell_type": "code",
      "source": [
        "# Data is the input and target is the output\n",
        "X = digit_data.data\n",
        "y = digit_data.target"
      ],
      "metadata": {
        "id": "FWC6TbGqmJCb"
      },
      "execution_count": 3,
      "outputs": []
    },
    {
      "cell_type": "code",
      "source": [
        "# Train test split using 20% test size\n",
        "X_train, X_test, y_train, y_test = train_test_split(X, y, test_size = 0.2)"
      ],
      "metadata": {
        "id": "9aKNIpSkmUAR"
      },
      "execution_count": 10,
      "outputs": []
    },
    {
      "cell_type": "code",
      "source": [
        "import warnings\n",
        "warnings.filterwarnings('ignore')"
      ],
      "metadata": {
        "id": "D9UZiKFamwr1"
      },
      "execution_count": 6,
      "outputs": []
    },
    {
      "cell_type": "code",
      "source": [
        "# Build the logistic regression model: model object define, train, model score\n",
        "lr_model = LogisticRegression()\n",
        "lr_model.fit(X_train, y_train)\n",
        "lr_model.score(X_test, y_test)"
      ],
      "metadata": {
        "colab": {
          "base_uri": "https://localhost:8080/"
        },
        "id": "Vps-7dHTmd_-",
        "outputId": "8ffe0198-c638-4add-f89e-10a36773d548"
      },
      "execution_count": 11,
      "outputs": [
        {
          "output_type": "execute_result",
          "data": {
            "text/plain": [
              "0.9611111111111111"
            ]
          },
          "metadata": {},
          "execution_count": 11
        }
      ]
    },
    {
      "cell_type": "code",
      "source": [
        "# Build the SVM model: model object define, train, model score\n",
        "svm_model = SVC()\n",
        "svm_model.fit(X_train, y_train)\n",
        "svm_model.score(X_test, y_test)"
      ],
      "metadata": {
        "colab": {
          "base_uri": "https://localhost:8080/"
        },
        "id": "EZX-2udXmtnM",
        "outputId": "94ba7de2-6aa9-419e-ec82-2737b52eab14"
      },
      "execution_count": 12,
      "outputs": [
        {
          "output_type": "execute_result",
          "data": {
            "text/plain": [
              "0.9916666666666667"
            ]
          },
          "metadata": {},
          "execution_count": 12
        }
      ]
    },
    {
      "cell_type": "code",
      "source": [
        "# Build the Random Forest model: model object define, train, model score\n",
        "rf_model = RandomForestClassifier()\n",
        "rf_model.fit(X_train, y_train)\n",
        "rf_model.score(X_test, y_test)"
      ],
      "metadata": {
        "colab": {
          "base_uri": "https://localhost:8080/"
        },
        "id": "pYSCTO71m3Ws",
        "outputId": "ff4ab24f-b12e-4270-db30-157e7c5b8287"
      },
      "execution_count": 13,
      "outputs": [
        {
          "output_type": "execute_result",
          "data": {
            "text/plain": [
              "0.975"
            ]
          },
          "metadata": {},
          "execution_count": 13
        }
      ]
    },
    {
      "cell_type": "markdown",
      "source": [
        "#### The main issue with this setup is as train_test_split function randomly changes the test and train sample, the model score changes very little. However, it is changing. So, by runig train_test_split once, model score can't be predicted accurately. In this situations K-fold Cross Validation is important"
      ],
      "metadata": {
        "id": "TxuXjVMSnQch"
      }
    },
    {
      "cell_type": "code",
      "source": [
        "# Creating the K-fold cross validation object\n",
        "from sklearn.model_selection import KFold\n",
        "kf = KFold(n_splits = 3)"
      ],
      "metadata": {
        "id": "hintHK8xnK65"
      },
      "execution_count": 14,
      "outputs": []
    },
    {
      "cell_type": "code",
      "source": [
        "# Supply 1-9 samples and see what happens\n",
        "for train_index, test_index in kf.split([1,2,3,4,5,6,7,8,9]):\n",
        "  print(train_index, test_index)\n",
        "\n",
        "# In first iteration, sample 3-8 is for training and sample 0-2 is for test\n",
        "# In second iteration, sample 1-2; 6-8 is for trainig and sample 3-5 is for test\n",
        "# In third iteration, sample 0-5 is for training and sample 6-8 is for test"
      ],
      "metadata": {
        "colab": {
          "base_uri": "https://localhost:8080/"
        },
        "id": "NDCNZ-gzoXAM",
        "outputId": "96924ec0-3c98-4c83-f3cb-8923b5e74851"
      },
      "execution_count": 15,
      "outputs": [
        {
          "output_type": "stream",
          "name": "stdout",
          "text": [
            "[3 4 5 6 7 8] [0 1 2]\n",
            "[0 1 2 6 7 8] [3 4 5]\n",
            "[0 1 2 3 4 5] [6 7 8]\n"
          ]
        }
      ]
    },
    {
      "cell_type": "code",
      "source": [
        "# Define a generic function that helps to get the model score is a simple method\n",
        "def get_score(model, X_train, X_test, y_train, y_test):\n",
        "  model.fit(X_train, y_train)\n",
        "  return model.score(X_test, y_test)"
      ],
      "metadata": {
        "id": "HYA4HsvKolwX"
      },
      "execution_count": 16,
      "outputs": []
    },
    {
      "cell_type": "code",
      "source": [
        "# For model building using K-fold cross validation we use stratified k fold\n",
        "# As it separates the classes in a uniform way\n",
        "from sklearn.model_selection import StratifiedKFold\n",
        "fold_model = StratifiedKFold(n_splits = 3)"
      ],
      "metadata": {
        "id": "M3M7Dkajpz0K"
      },
      "execution_count": 17,
      "outputs": []
    },
    {
      "cell_type": "code",
      "source": [
        "digit_data.data"
      ],
      "metadata": {
        "colab": {
          "base_uri": "https://localhost:8080/"
        },
        "id": "rATu47pDsxFA",
        "outputId": "f4173ae5-d9a2-4ee2-f34b-fb005b945df3"
      },
      "execution_count": 20,
      "outputs": [
        {
          "output_type": "execute_result",
          "data": {
            "text/plain": [
              "array([[ 0.,  0.,  5., ...,  0.,  0.,  0.],\n",
              "       [ 0.,  0.,  0., ..., 10.,  0.,  0.],\n",
              "       [ 0.,  0.,  0., ..., 16.,  9.,  0.],\n",
              "       ...,\n",
              "       [ 0.,  0.,  1., ...,  6.,  0.,  0.],\n",
              "       [ 0.,  0.,  2., ..., 12.,  0.,  0.],\n",
              "       [ 0.,  0., 10., ..., 12.,  1.,  0.]])"
            ]
          },
          "metadata": {},
          "execution_count": 20
        }
      ]
    },
    {
      "cell_type": "code",
      "source": [
        "# Creating emplt list for storing model scroes\n",
        "lr_score = []\n",
        "svm_score = []\n",
        "rf_score = []\n",
        "\n",
        "# Creating a for loop with the fold_model as previous\n",
        "for train_index, test_index in kf.split(digit_data.data):\n",
        "  X_train, X_test, y_train, y_test = digit_data.data[train_index], digit_data.data[test_index], digit_data.target[train_index], digit_data.target[test_index]\n",
        "  # Get the score for logistic regression, svm and random foest model and append them in the empty lists\n",
        "  lr_score.append(get_score(LogisticRegression(),X_train, X_test, y_train, y_test))\n",
        "  svm_score.append(get_score(SVC(),X_train, X_test, y_train, y_test))\n",
        "  rf_score.append(get_score(RandomForestClassifier(),X_train, X_test, y_train, y_test))"
      ],
      "metadata": {
        "id": "PF7pnuGyqMHQ"
      },
      "execution_count": 21,
      "outputs": []
    },
    {
      "cell_type": "code",
      "source": [
        "# Check the scores of Logistic Regression Model for three iterations\n",
        "lr_score"
      ],
      "metadata": {
        "colab": {
          "base_uri": "https://localhost:8080/"
        },
        "id": "q8xNFn9_shax",
        "outputId": "d1e8a03c-5abd-4702-c53c-40bb93112b40"
      },
      "execution_count": 22,
      "outputs": [
        {
          "output_type": "execute_result",
          "data": {
            "text/plain": [
              "[0.9232053422370617, 0.9415692821368948, 0.9148580968280468]"
            ]
          },
          "metadata": {},
          "execution_count": 22
        }
      ]
    },
    {
      "cell_type": "code",
      "source": [
        "# Check the scores of SVM Model for three iterations\n",
        "svm_score"
      ],
      "metadata": {
        "colab": {
          "base_uri": "https://localhost:8080/"
        },
        "id": "NIbpKb64tC_o",
        "outputId": "f658afae-66d2-45b8-be5f-b3d9b0a055cb"
      },
      "execution_count": 23,
      "outputs": [
        {
          "output_type": "execute_result",
          "data": {
            "text/plain": [
              "[0.9666110183639399, 0.9816360601001669, 0.9549248747913188]"
            ]
          },
          "metadata": {},
          "execution_count": 23
        }
      ]
    },
    {
      "cell_type": "code",
      "source": [
        "# Check the scores of  Random Forest Model for three iterations\n",
        "rf_score"
      ],
      "metadata": {
        "colab": {
          "base_uri": "https://localhost:8080/"
        },
        "id": "nT7mf03otIKd",
        "outputId": "69dd5bf6-fce5-4614-de21-b4f6133f7cb4"
      },
      "execution_count": 24,
      "outputs": [
        {
          "output_type": "execute_result",
          "data": {
            "text/plain": [
              "[0.9365609348914858, 0.9616026711185309, 0.9232053422370617]"
            ]
          },
          "metadata": {},
          "execution_count": 24
        }
      ]
    },
    {
      "cell_type": "code",
      "source": [
        "# The big code need not be written\n",
        "# There is altenative approach\n",
        "from sklearn.model_selection import cross_val_score\n",
        "cross_val_score(LogisticRegression(), digit_data.data, digit_data.target)"
      ],
      "metadata": {
        "colab": {
          "base_uri": "https://localhost:8080/"
        },
        "id": "oU4kmQvUtOMs",
        "outputId": "1751598c-1afe-43c7-c4be-41c2c9757af2"
      },
      "execution_count": 25,
      "outputs": [
        {
          "output_type": "execute_result",
          "data": {
            "text/plain": [
              "array([0.92222222, 0.86944444, 0.94150418, 0.93871866, 0.89693593])"
            ]
          },
          "metadata": {},
          "execution_count": 25
        }
      ]
    },
    {
      "cell_type": "markdown",
      "source": [
        "#### Sample code for runing cross validaion on iris data set"
      ],
      "metadata": {
        "id": "ryw_uWDPwLIc"
      }
    },
    {
      "cell_type": "code",
      "source": [
        "# Import necessary libraries\n",
        "from sklearn.datasets import load_iris\n",
        "from sklearn.model_selection import KFold, cross_val_score\n",
        "from sklearn.linear_model import LogisticRegression\n",
        "from sklearn.svm import SVC\n",
        "from sklearn.ensemble import RandomForestClassifier\n",
        "import numpy as np\n",
        "\n",
        "# Load Iris dataset\n",
        "iris = load_iris()\n",
        "X = iris.data\n",
        "y = iris.target\n",
        "\n",
        "# Initialize models\n",
        "log_reg = LogisticRegression(max_iter=200)\n",
        "svm = SVC()\n",
        "random_forest = RandomForestClassifier()\n",
        "\n",
        "# Initialize KFold with 5 splits\n",
        "kf = KFold(n_splits=5, shuffle=True, random_state=42)\n",
        "\n",
        "# Perform K-fold cross-validation for each model\n",
        "log_reg_scores = cross_val_score(log_reg, X, y, cv=kf)\n",
        "svm_scores = cross_val_score(svm, X, y, cv=kf)\n",
        "random_forest_scores = cross_val_score(random_forest, X, y, cv=kf)\n",
        "\n",
        "# Print the average accuracy for each model\n",
        "print(\"Logistic Regression average accuracy:\", np.mean(log_reg_scores))\n",
        "print(\"SVM average accuracy:\", np.mean(svm_scores))\n",
        "print(\"Random Forest average accuracy:\", np.mean(random_forest_scores))"
      ],
      "metadata": {
        "id": "IJSdn2eBu5nK"
      },
      "execution_count": null,
      "outputs": []
    }
  ]
}