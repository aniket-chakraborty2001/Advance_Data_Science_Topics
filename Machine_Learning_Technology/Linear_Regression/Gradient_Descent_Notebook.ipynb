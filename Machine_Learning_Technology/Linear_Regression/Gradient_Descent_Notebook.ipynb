{
  "nbformat": 4,
  "nbformat_minor": 0,
  "metadata": {
    "colab": {
      "provenance": []
    },
    "kernelspec": {
      "name": "python3",
      "display_name": "Python 3"
    },
    "language_info": {
      "name": "python"
    }
  },
  "cells": [
    {
      "cell_type": "markdown",
      "source": [
        "#### In this notebook, a simple yet effective way of creating a gradientdescent mechanism is showed. The linear equation that is under consideration is y = 8x-3. The x values and corresponding y values will be given. For 10 x values, we get 10 y values\n",
        "\n",
        "#### Some parameters needed to be mentioned earlier. For example, the first initialization of variables m and b is 0. Number of iterations is 1000, number of data points is 10. Consider the learning rate as 0.001. Now we have to use the MSE cost function equation with their partial derivatives."
      ],
      "metadata": {
        "id": "fXbWRNM8GTta"
      }
    },
    {
      "cell_type": "code",
      "source": [
        "# Import numpy and matplotlib for this excercise\n",
        "\n",
        "import numpy as np\n",
        "import matplotlib.pyplot as plt"
      ],
      "metadata": {
        "id": "2n9M5QBYH_D_"
      },
      "execution_count": 23,
      "outputs": []
    },
    {
      "cell_type": "code",
      "source": [
        "# Start by supplying the x and y values\n",
        "# Define 10 x values as numpy array\n",
        "\n",
        "x = np.array([1,2,3,4,5,6,7,8,9,10])\n",
        "\n",
        "# Define a function 8x-3, to create the y values\n",
        "\n",
        "def function(x):\n",
        "  return (8*x-3)\n",
        "\n",
        "# Applying the function on x values to creat y values\n",
        "\n",
        "y = function(x)\n",
        "y"
      ],
      "metadata": {
        "colab": {
          "base_uri": "https://localhost:8080/"
        },
        "id": "4ng3NgxzHPz1",
        "outputId": "71dcf6a0-1da4-4d7f-dbdb-578e681a589e"
      },
      "execution_count": 24,
      "outputs": [
        {
          "output_type": "execute_result",
          "data": {
            "text/plain": [
              "array([ 5, 13, 21, 29, 37, 45, 53, 61, 69, 77])"
            ]
          },
          "metadata": {},
          "execution_count": 24
        }
      ]
    },
    {
      "cell_type": "code",
      "source": [
        "# Define the gradient descent funcion\n",
        "\n",
        "def grad_des(x, y):\n",
        "    m_initial = b_initial = 0  # Initial guess for m and b is 0\n",
        "    iterations = 100  # Number of iterations\n",
        "    n = len(x)  # Number of data points\n",
        "    learning_rate = 0.01  # Learning rate, hyperparameter\n",
        "\n",
        "    cost_list = []  # To store cost values over iterations\n",
        "\n",
        "    for i in range(iterations):\n",
        "        y_pred = m_initial * x + b_initial  # Predicted y values\n",
        "        cost = (1/n) * sum([val ** 2 for val in (y - y_pred)])  # Calculate cost\n",
        "        cost_list.append(cost)  # Append cost to list\n",
        "        m_d = -(2/n) * sum(x * (y - y_pred))  # Partial derivative of cost w.r.t. m\n",
        "        b_d = -(2/n) * sum(y - y_pred)  # Partial derivative of cost w.r.t. b\n",
        "        m_initial = m_initial - learning_rate * m_d  # Update m\n",
        "        b_initial = b_initial - learning_rate * b_d  # Update b\n",
        "\n",
        "    # Plotting the cost values over iterations\n",
        "    plt.plot(range(iterations), cost_list, color = 'blue')\n",
        "    plt.xlabel('Iterations')\n",
        "    plt.ylabel('Cost')\n",
        "    plt.title('Cost vs Iterations')\n",
        "    plt.show()"
      ],
      "metadata": {
        "id": "PGQ8GJS8HwTS"
      },
      "execution_count": 36,
      "outputs": []
    },
    {
      "cell_type": "code",
      "source": [
        "grad_des(x, y)"
      ],
      "metadata": {
        "colab": {
          "base_uri": "https://localhost:8080/",
          "height": 472
        },
        "id": "khwQptAqORKE",
        "outputId": "c365e46f-902a-4dae-f079-fc3fa80700ac"
      },
      "execution_count": 37,
      "outputs": [
        {
          "output_type": "display_data",
          "data": {
            "text/plain": [
              "<Figure size 640x480 with 1 Axes>"
            ],
            "image/png": "[encoded data removed]"
          },
          "metadata": {}
        }
      ]
    },
    {
      "cell_type": "markdown",
      "source": [
        "#### So, one thing to note that, after 10000 iterations, when the cost is close to 0.0007, my m and b coefficient values are very close to 8 and -3 respectively. Which is a very good thing"
      ],
      "metadata": {
        "id": "mYFPwQCHLYQq"
      }
    }
  ]
}