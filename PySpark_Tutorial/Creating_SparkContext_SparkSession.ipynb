{
  "nbformat": 4,
  "nbformat_minor": 0,
  "metadata": {
    "colab": {
      "provenance": []
    },
    "kernelspec": {
      "name": "python3",
      "display_name": "Python 3"
    },
    "language_info": {
      "name": "python"
    }
  },
  "cells": [
    {
      "cell_type": "markdown",
      "source": [
        "### Creating SparkContext in PySpark Version 1.x\n",
        "It is very easy to create SparkContext in PySpark. However, depending on the version of PySpark the method changes. For PySpark version 1.x, the SparkContext can be directly created as in that version, the SparkContext was the entry point"
      ],
      "metadata": {
        "id": "00q7iL3O1p2D"
      }
    },
    {
      "cell_type": "code",
      "source": [
        "# Creating SparkContext as sc with app name 'MySparkApplication'\n",
        "from pyspark import SparkContext\n",
        "sc = SparkContext(appName = 'MySparkApplication')"
      ],
      "metadata": {
        "id": "-08yH9232IGD"
      },
      "execution_count": 2,
      "outputs": []
    },
    {
      "cell_type": "code",
      "source": [
        "# Get the details on the SparkContext object\n",
        "sc"
      ],
      "metadata": {
        "colab": {
          "base_uri": "https://localhost:8080/",
          "height": 196
        },
        "id": "ofXT1GxT2bgj",
        "outputId": "d47022fa-5dda-4db3-a744-ac97fc0c40d9"
      },
      "execution_count": 3,
      "outputs": [
        {
          "output_type": "execute_result",
          "data": {
            "text/plain": [
              "<SparkContext master=local[*] appName=MySparkApplication>"
            ],
            "text/html": [
              "\n",
              "        <div>\n",
              "            <p><b>SparkContext</b></p>\n",
              "\n",
              "            <p><a href=\"http://135a7eff0e22:4040\">Spark UI</a></p>\n",
              "\n",
              "            <dl>\n",
              "              <dt>Version</dt>\n",
              "                <dd><code>v3.5.3</code></dd>\n",
              "              <dt>Master</dt>\n",
              "                <dd><code>local[*]</code></dd>\n",
              "              <dt>AppName</dt>\n",
              "                <dd><code>MySparkApplication</code></dd>\n",
              "            </dl>\n",
              "        </div>\n",
              "        "
            ]
          },
          "metadata": {},
          "execution_count": 3
        }
      ]
    },
    {
      "cell_type": "code",
      "source": [
        "# Stop the current SparkContext object sc\n",
        "sc.stop()"
      ],
      "metadata": {
        "id": "no4pwgFZ2s5e"
      },
      "execution_count": 4,
      "outputs": []
    },
    {
      "cell_type": "markdown",
      "source": [
        "### Creating SparkContext in PySpark Version 2.x\n",
        "From PySpark version 2.0 and later, the Spark entry point for all Spark applications is changed from SparkContext to SparkSession. So, in order to create a SparkContext in PySpark version 2.0 or later, first SparkSession is created and then from it, a SparkContext is created"
      ],
      "metadata": {
        "id": "KIdRxP8I25ai"
      }
    },
    {
      "cell_type": "code",
      "source": [
        "# Creating a SparkSession as spark with app name 'MySparkApplication'\n",
        "from pyspark.sql import SparkSession\n",
        "spark = SparkSession.builder.appName('MySparkApplication').getOrCreate()\n",
        "# Get the SparkContext from the Spark session\n",
        "sc = spark.sparkContext\n",
        "# Get all the details of sc\n",
        "sc"
      ],
      "metadata": {
        "colab": {
          "base_uri": "https://localhost:8080/",
          "height": 196
        },
        "id": "2E4NSw2u23dk",
        "outputId": "a6a09387-b156-4e38-bbfe-25c2a7f64de1"
      },
      "execution_count": 7,
      "outputs": [
        {
          "output_type": "execute_result",
          "data": {
            "text/plain": [
              "<SparkContext master=local[*] appName=MySparkApplication>"
            ],
            "text/html": [
              "\n",
              "        <div>\n",
              "            <p><b>SparkContext</b></p>\n",
              "\n",
              "            <p><a href=\"http://135a7eff0e22:4040\">Spark UI</a></p>\n",
              "\n",
              "            <dl>\n",
              "              <dt>Version</dt>\n",
              "                <dd><code>v3.5.3</code></dd>\n",
              "              <dt>Master</dt>\n",
              "                <dd><code>local[*]</code></dd>\n",
              "              <dt>AppName</dt>\n",
              "                <dd><code>MySparkApplication</code></dd>\n",
              "            </dl>\n",
              "        </div>\n",
              "        "
            ]
          },
          "metadata": {},
          "execution_count": 7
        }
      ]
    },
    {
      "cell_type": "code",
      "source": [
        "# Stop the SparkContext object\n",
        "sc.stop()"
      ],
      "metadata": {
        "id": "IPgIRFuv4AsQ"
      },
      "execution_count": 8,
      "outputs": []
    }
  ]
}