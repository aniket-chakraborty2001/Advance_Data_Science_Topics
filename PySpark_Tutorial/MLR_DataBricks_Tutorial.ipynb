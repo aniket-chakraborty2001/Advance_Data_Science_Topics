{
 "cells": [
  {
   "cell_type": "markdown",
   "metadata": {
    "application/vnd.databricks.v1+cell": {
     "cellMetadata": {
      "byteLimit": 2048000,
      "rowLimit": 10000
     },
     "inputWidgets": {},
     "nuid": "96816ed7-b08a-4ca3-abb9-f99880c3535d",
     "showTitle": false,
     "tableResultSettingsMap": {},
     "title": ""
    }
   },
   "source": [
    "\n",
    "## Overview\n",
    "\n",
    "This notebook will show you how to create and query a table or DataFrame that you uploaded to DBFS. [DBFS](https://docs.databricks.com/user-guide/dbfs-databricks-file-system.html) is a Databricks File System that allows you to store data for querying inside of Databricks. This notebook assumes that you have a file already inside of DBFS that you would like to read from.\n",
    "\n",
    "This notebook is written in **Python** so the default cell type is Python. However, you can use different languages by using the `%LANGUAGE` syntax. Python, Scala, SQL, and R are all supported."
   ]
  },
  {
   "cell_type": "code",
   "execution_count": 0,
   "metadata": {
    "application/vnd.databricks.v1+cell": {
     "cellMetadata": {
      "byteLimit": 2048000,
      "rowLimit": 10000
     },
     "inputWidgets": {},
     "nuid": "6482be4c-f067-47c9-b0ac-35c938b94601",
     "showTitle": false,
     "tableResultSettingsMap": {},
     "title": ""
    }
   },
   "outputs": [],
   "source": [
    "# File location and type\n",
    "file_location = \"/FileStore/tables/PySpark_tips.csv\"\n",
    "file_type = \"csv\""
   ]
  },
  {
   "cell_type": "code",
   "execution_count": 0,
   "metadata": {
    "application/vnd.databricks.v1+cell": {
     "cellMetadata": {
      "byteLimit": 2048000,
      "rowLimit": 10000
     },
     "inputWidgets": {},
     "nuid": "18783743-61f9-45e4-95da-15909a72af95",
     "showTitle": false,
     "tableResultSettingsMap": {},
     "title": ""
    }
   },
   "outputs": [],
   "source": [
    "# Reading the 'PySpark_tips.csv' file as df_org\n",
    "df_org = spark.read.csv(file_location, header = True, inferSchema = True)"
   ]
  },
  {
   "cell_type": "code",
   "execution_count": 0,
   "metadata": {
    "application/vnd.databricks.v1+cell": {
     "cellMetadata": {
      "byteLimit": 2048000,
      "rowLimit": 10000
     },
     "inputWidgets": {},
     "nuid": "3be31b32-2be8-4e9f-af8f-557583e587ed",
     "showTitle": false,
     "tableResultSettingsMap": {},
     "title": ""
    }
   },
   "outputs": [
    {
     "output_type": "stream",
     "name": "stdout",
     "output_type": "stream",
     "text": [
      "+----------+----+------+------+---+------+----+\n|total_bill| tip|   sex|smoker|day|  time|size|\n+----------+----+------+------+---+------+----+\n|     16.99|1.01|Female|    No|Sun|Dinner|   2|\n|     10.34|1.66|  Male|    No|Sun|Dinner|   3|\n|     21.01| 3.5|  Male|    No|Sun|Dinner|   3|\n|     23.68|3.31|  Male|    No|Sun|Dinner|   2|\n|     24.59|3.61|Female|    No|Sun|Dinner|   4|\n|     25.29|4.71|  Male|    No|Sun|Dinner|   4|\n|      8.77| 2.0|  Male|    No|Sun|Dinner|   2|\n|     26.88|3.12|  Male|    No|Sun|Dinner|   4|\n|     15.04|1.96|  Male|    No|Sun|Dinner|   2|\n|     14.78|3.23|  Male|    No|Sun|Dinner|   2|\n|     10.27|1.71|  Male|    No|Sun|Dinner|   2|\n|     35.26| 5.0|Female|    No|Sun|Dinner|   4|\n|     15.42|1.57|  Male|    No|Sun|Dinner|   2|\n|     18.43| 3.0|  Male|    No|Sun|Dinner|   4|\n|     14.83|3.02|Female|    No|Sun|Dinner|   2|\n|     21.58|3.92|  Male|    No|Sun|Dinner|   2|\n|     10.33|1.67|Female|    No|Sun|Dinner|   3|\n|     16.29|3.71|  Male|    No|Sun|Dinner|   3|\n|     16.97| 3.5|Female|    No|Sun|Dinner|   3|\n|     20.65|3.35|  Male|    No|Sat|Dinner|   3|\n+----------+----+------+------+---+------+----+\nonly showing top 20 rows\n\n"
     ]
    }
   ],
   "source": [
    "# Check the entire data frame\n",
    "df_org.show()"
   ]
  },
  {
   "cell_type": "code",
   "execution_count": 0,
   "metadata": {
    "application/vnd.databricks.v1+cell": {
     "cellMetadata": {
      "byteLimit": 2048000,
      "rowLimit": 10000
     },
     "inputWidgets": {},
     "nuid": "27a16e05-649f-4da1-87da-95acf5a53a02",
     "showTitle": false,
     "tableResultSettingsMap": {},
     "title": ""
    }
   },
   "outputs": [
    {
     "output_type": "stream",
     "name": "stdout",
     "output_type": "stream",
     "text": [
      "Out[20]: ['total_bill', 'tip', 'sex', 'smoker', 'day', 'time', 'size']"
     ]
    }
   ],
   "source": [
    "# Check the columns of the df_org pyspark data frame\n",
    "df_org.columns"
   ]
  },
  {
   "cell_type": "code",
   "execution_count": 0,
   "metadata": {
    "application/vnd.databricks.v1+cell": {
     "cellMetadata": {
      "byteLimit": 2048000,
      "rowLimit": 10000
     },
     "inputWidgets": {},
     "nuid": "951eb82e-28f7-49c3-9a33-4313d8d9fbac",
     "showTitle": false,
     "tableResultSettingsMap": {},
     "title": ""
    }
   },
   "outputs": [],
   "source": [
    "# Import StringIndexer to deal with categorical variables\n",
    "from pyspark.ml.feature import StringIndexer\n"
   ]
  },
  {
   "cell_type": "code",
   "execution_count": 0,
   "metadata": {
    "application/vnd.databricks.v1+cell": {
     "cellMetadata": {
      "byteLimit": 2048000,
      "rowLimit": 10000
     },
     "inputWidgets": {},
     "nuid": "85475bee-474b-4ca6-8804-f2553a5f31dc",
     "showTitle": false,
     "tableResultSettingsMap": {},
     "title": ""
    }
   },
   "outputs": [
    {
     "output_type": "stream",
     "name": "stdout",
     "output_type": "stream",
     "text": [
      "+----------+----+------+------+---+------+----+-----------+\n|total_bill| tip|   sex|smoker|day|  time|size|sex_indexed|\n+----------+----+------+------+---+------+----+-----------+\n|     16.99|1.01|Female|    No|Sun|Dinner|   2|        1.0|\n|     10.34|1.66|  Male|    No|Sun|Dinner|   3|        0.0|\n|     21.01| 3.5|  Male|    No|Sun|Dinner|   3|        0.0|\n|     23.68|3.31|  Male|    No|Sun|Dinner|   2|        0.0|\n|     24.59|3.61|Female|    No|Sun|Dinner|   4|        1.0|\n|     25.29|4.71|  Male|    No|Sun|Dinner|   4|        0.0|\n|      8.77| 2.0|  Male|    No|Sun|Dinner|   2|        0.0|\n|     26.88|3.12|  Male|    No|Sun|Dinner|   4|        0.0|\n|     15.04|1.96|  Male|    No|Sun|Dinner|   2|        0.0|\n|     14.78|3.23|  Male|    No|Sun|Dinner|   2|        0.0|\n|     10.27|1.71|  Male|    No|Sun|Dinner|   2|        0.0|\n|     35.26| 5.0|Female|    No|Sun|Dinner|   4|        1.0|\n|     15.42|1.57|  Male|    No|Sun|Dinner|   2|        0.0|\n|     18.43| 3.0|  Male|    No|Sun|Dinner|   4|        0.0|\n|     14.83|3.02|Female|    No|Sun|Dinner|   2|        1.0|\n|     21.58|3.92|  Male|    No|Sun|Dinner|   2|        0.0|\n|     10.33|1.67|Female|    No|Sun|Dinner|   3|        1.0|\n|     16.29|3.71|  Male|    No|Sun|Dinner|   3|        0.0|\n|     16.97| 3.5|Female|    No|Sun|Dinner|   3|        1.0|\n|     20.65|3.35|  Male|    No|Sat|Dinner|   3|        0.0|\n+----------+----+------+------+---+------+----+-----------+\nonly showing top 20 rows\n\n"
     ]
    }
   ],
   "source": [
    "# Creating StringIndexer object with required parameters\n",
    "# Try to convert only the 'sex' column to 'sex_indexed' column\n",
    "indexer1 = StringIndexer(inputCol = 'sex', outputCol = 'sex_indexed')\n",
    "df = indexer1.fit(df_org).transform(df_org)\n",
    "df.show()\n",
    "\n",
    "# So, for female it is 1 and for male, it is 0"
   ]
  },
  {
   "cell_type": "code",
   "execution_count": 0,
   "metadata": {
    "application/vnd.databricks.v1+cell": {
     "cellMetadata": {
      "byteLimit": 2048000,
      "rowLimit": 10000
     },
     "inputWidgets": {},
     "nuid": "5a5c7a3e-2126-4877-9364-ffa3b9e65157",
     "showTitle": false,
     "tableResultSettingsMap": {},
     "title": ""
    }
   },
   "outputs": [
    {
     "output_type": "stream",
     "name": "stdout",
     "output_type": "stream",
     "text": [
      "+----------+----+------+------+---+------+----+-----------+--------------+-----------+------------+\n|total_bill| tip|   sex|smoker|day|  time|size|sex_indexed|smoker_indexed|day_indexed|time_indexed|\n+----------+----+------+------+---+------+----+-----------+--------------+-----------+------------+\n|     16.99|1.01|Female|    No|Sun|Dinner|   2|        1.0|           0.0|        1.0|         0.0|\n|     10.34|1.66|  Male|    No|Sun|Dinner|   3|        0.0|           0.0|        1.0|         0.0|\n|     21.01| 3.5|  Male|    No|Sun|Dinner|   3|        0.0|           0.0|        1.0|         0.0|\n|     23.68|3.31|  Male|    No|Sun|Dinner|   2|        0.0|           0.0|        1.0|         0.0|\n|     24.59|3.61|Female|    No|Sun|Dinner|   4|        1.0|           0.0|        1.0|         0.0|\n|     25.29|4.71|  Male|    No|Sun|Dinner|   4|        0.0|           0.0|        1.0|         0.0|\n|      8.77| 2.0|  Male|    No|Sun|Dinner|   2|        0.0|           0.0|        1.0|         0.0|\n|     26.88|3.12|  Male|    No|Sun|Dinner|   4|        0.0|           0.0|        1.0|         0.0|\n|     15.04|1.96|  Male|    No|Sun|Dinner|   2|        0.0|           0.0|        1.0|         0.0|\n|     14.78|3.23|  Male|    No|Sun|Dinner|   2|        0.0|           0.0|        1.0|         0.0|\n|     10.27|1.71|  Male|    No|Sun|Dinner|   2|        0.0|           0.0|        1.0|         0.0|\n|     35.26| 5.0|Female|    No|Sun|Dinner|   4|        1.0|           0.0|        1.0|         0.0|\n|     15.42|1.57|  Male|    No|Sun|Dinner|   2|        0.0|           0.0|        1.0|         0.0|\n|     18.43| 3.0|  Male|    No|Sun|Dinner|   4|        0.0|           0.0|        1.0|         0.0|\n|     14.83|3.02|Female|    No|Sun|Dinner|   2|        1.0|           0.0|        1.0|         0.0|\n|     21.58|3.92|  Male|    No|Sun|Dinner|   2|        0.0|           0.0|        1.0|         0.0|\n|     10.33|1.67|Female|    No|Sun|Dinner|   3|        1.0|           0.0|        1.0|         0.0|\n|     16.29|3.71|  Male|    No|Sun|Dinner|   3|        0.0|           0.0|        1.0|         0.0|\n|     16.97| 3.5|Female|    No|Sun|Dinner|   3|        1.0|           0.0|        1.0|         0.0|\n|     20.65|3.35|  Male|    No|Sat|Dinner|   3|        0.0|           0.0|        0.0|         0.0|\n+----------+----+------+------+---+------+----+-----------+--------------+-----------+------------+\nonly showing top 20 rows\n\n"
     ]
    }
   ],
   "source": [
    "# Convert the 'smoker', 'day' and 'time' column to its ordinal columns\n",
    "# Name the output columns as 'smoker_indexed', 'day_indexed' and 'time_indexed'\n",
    "indexer2 = StringIndexer(inputCols = ['smoker','day','time'], outputCols = ['smoker_indexed','day_indexed', \n",
    "                                                                            'time_indexed'])\n",
    "df = indexer2.fit(df).transform(df)\n",
    "df.show()\n",
    "\n",
    "# For non-smoker, the index is 0, for smoker the index is 1\n",
    "# For sunday, the index is 1\n",
    "# For dinner time, the index is 0"
   ]
  },
  {
   "cell_type": "code",
   "execution_count": 0,
   "metadata": {
    "application/vnd.databricks.v1+cell": {
     "cellMetadata": {
      "byteLimit": 2048000,
      "rowLimit": 10000
     },
     "inputWidgets": {},
     "nuid": "18694f83-3e1d-4c7e-888c-15013492d487",
     "showTitle": false,
     "tableResultSettingsMap": {},
     "title": ""
    }
   },
   "outputs": [
    {
     "output_type": "stream",
     "name": "stdout",
     "output_type": "stream",
     "text": [
      "+----------+----+----+-----------+--------------+-----------+------------+\n|total_bill| tip|size|sex_indexed|smoker_indexed|day_indexed|time_indexed|\n+----------+----+----+-----------+--------------+-----------+------------+\n|     16.99|1.01|   2|        1.0|           0.0|        1.0|         0.0|\n|     10.34|1.66|   3|        0.0|           0.0|        1.0|         0.0|\n|     21.01| 3.5|   3|        0.0|           0.0|        1.0|         0.0|\n|     23.68|3.31|   2|        0.0|           0.0|        1.0|         0.0|\n|     24.59|3.61|   4|        1.0|           0.0|        1.0|         0.0|\n|     25.29|4.71|   4|        0.0|           0.0|        1.0|         0.0|\n|      8.77| 2.0|   2|        0.0|           0.0|        1.0|         0.0|\n|     26.88|3.12|   4|        0.0|           0.0|        1.0|         0.0|\n|     15.04|1.96|   2|        0.0|           0.0|        1.0|         0.0|\n|     14.78|3.23|   2|        0.0|           0.0|        1.0|         0.0|\n|     10.27|1.71|   2|        0.0|           0.0|        1.0|         0.0|\n|     35.26| 5.0|   4|        1.0|           0.0|        1.0|         0.0|\n|     15.42|1.57|   2|        0.0|           0.0|        1.0|         0.0|\n|     18.43| 3.0|   4|        0.0|           0.0|        1.0|         0.0|\n|     14.83|3.02|   2|        1.0|           0.0|        1.0|         0.0|\n|     21.58|3.92|   2|        0.0|           0.0|        1.0|         0.0|\n|     10.33|1.67|   3|        1.0|           0.0|        1.0|         0.0|\n|     16.29|3.71|   3|        0.0|           0.0|        1.0|         0.0|\n|     16.97| 3.5|   3|        1.0|           0.0|        1.0|         0.0|\n|     20.65|3.35|   3|        0.0|           0.0|        0.0|         0.0|\n+----------+----+----+-----------+--------------+-----------+------------+\nonly showing top 20 rows\n\n"
     ]
    }
   ],
   "source": [
    "# Creating the final data frame as df that will contain the one hot encoded featues only\n",
    "# It will not contain any string data type columns\n",
    "df = df.drop('sex')\n",
    "df = df.drop('smoker')\n",
    "df = df.drop('day')\n",
    "df = df.drop('time')\n",
    "df.show()"
   ]
  },
  {
   "cell_type": "code",
   "execution_count": 0,
   "metadata": {
    "application/vnd.databricks.v1+cell": {
     "cellMetadata": {
      "byteLimit": 2048000,
      "rowLimit": 10000
     },
     "inputWidgets": {},
     "nuid": "58e29f69-6572-43e3-a60f-787baae4fc81",
     "showTitle": false,
     "tableResultSettingsMap": {},
     "title": ""
    }
   },
   "outputs": [
    {
     "output_type": "stream",
     "name": "stdout",
     "output_type": "stream",
     "text": [
      "Out[30]: ['total_bill',\n 'tip',\n 'size',\n 'sex_indexed',\n 'smoker_indexed',\n 'day_indexed',\n 'time_indexed']"
     ]
    }
   ],
   "source": [
    "# Get the column names of the df dataframe\n",
    "df.columns"
   ]
  },
  {
   "cell_type": "code",
   "execution_count": 0,
   "metadata": {
    "application/vnd.databricks.v1+cell": {
     "cellMetadata": {
      "byteLimit": 2048000,
      "rowLimit": 10000
     },
     "inputWidgets": {},
     "nuid": "834a290f-3143-46c9-bea3-c769f9dad2e3",
     "showTitle": false,
     "tableResultSettingsMap": {},
     "title": ""
    }
   },
   "outputs": [],
   "source": [
    "# Import VectorAssembler to group the independent variables together for building ML\n",
    "from pyspark.ml.feature import VectorAssembler"
   ]
  },
  {
   "cell_type": "code",
   "execution_count": 0,
   "metadata": {
    "application/vnd.databricks.v1+cell": {
     "cellMetadata": {
      "byteLimit": 2048000,
      "rowLimit": 10000
     },
     "inputWidgets": {},
     "nuid": "8ca73175-27f0-423f-befb-5cce4c450361",
     "showTitle": false,
     "tableResultSettingsMap": {},
     "title": ""
    }
   },
   "outputs": [
    {
     "output_type": "stream",
     "name": "stdout",
     "output_type": "stream",
     "text": [
      "+----------+----+----+-----------+--------------+-----------+------------+--------------------+\n|total_bill| tip|size|sex_indexed|smoker_indexed|day_indexed|time_indexed|                IndF|\n+----------+----+----+-----------+--------------+-----------+------------+--------------------+\n|     16.99|1.01|   2|        1.0|           0.0|        1.0|         0.0|[1.01,1.0,0.0,1.0...|\n|     10.34|1.66|   3|        0.0|           0.0|        1.0|         0.0|(5,[0,3],[1.66,1.0])|\n|     21.01| 3.5|   3|        0.0|           0.0|        1.0|         0.0| (5,[0,3],[3.5,1.0])|\n|     23.68|3.31|   2|        0.0|           0.0|        1.0|         0.0|(5,[0,3],[3.31,1.0])|\n|     24.59|3.61|   4|        1.0|           0.0|        1.0|         0.0|[3.61,1.0,0.0,1.0...|\n|     25.29|4.71|   4|        0.0|           0.0|        1.0|         0.0|(5,[0,3],[4.71,1.0])|\n|      8.77| 2.0|   2|        0.0|           0.0|        1.0|         0.0| (5,[0,3],[2.0,1.0])|\n|     26.88|3.12|   4|        0.0|           0.0|        1.0|         0.0|(5,[0,3],[3.12,1.0])|\n|     15.04|1.96|   2|        0.0|           0.0|        1.0|         0.0|(5,[0,3],[1.96,1.0])|\n|     14.78|3.23|   2|        0.0|           0.0|        1.0|         0.0|(5,[0,3],[3.23,1.0])|\n|     10.27|1.71|   2|        0.0|           0.0|        1.0|         0.0|(5,[0,3],[1.71,1.0])|\n|     35.26| 5.0|   4|        1.0|           0.0|        1.0|         0.0|[5.0,1.0,0.0,1.0,...|\n|     15.42|1.57|   2|        0.0|           0.0|        1.0|         0.0|(5,[0,3],[1.57,1.0])|\n|     18.43| 3.0|   4|        0.0|           0.0|        1.0|         0.0| (5,[0,3],[3.0,1.0])|\n|     14.83|3.02|   2|        1.0|           0.0|        1.0|         0.0|[3.02,1.0,0.0,1.0...|\n|     21.58|3.92|   2|        0.0|           0.0|        1.0|         0.0|(5,[0,3],[3.92,1.0])|\n|     10.33|1.67|   3|        1.0|           0.0|        1.0|         0.0|[1.67,1.0,0.0,1.0...|\n|     16.29|3.71|   3|        0.0|           0.0|        1.0|         0.0|(5,[0,3],[3.71,1.0])|\n|     16.97| 3.5|   3|        1.0|           0.0|        1.0|         0.0|[3.5,1.0,0.0,1.0,...|\n|     20.65|3.35|   3|        0.0|           0.0|        0.0|         0.0|      (5,[0],[3.35])|\n+----------+----+----+-----------+--------------+-----------+------------+--------------------+\nonly showing top 20 rows\n\n"
     ]
    }
   ],
   "source": [
    "# Create the Vectorassembler object and transform the independent variable into a new variable called 'IndF'\n",
    "features = VectorAssembler(inputCols = ['tip', 'sex_indexed', 'smoker_indexed', 'day_indexed', 'time_indexed'], \n",
    "                           outputCol = 'IndF')\n",
    "# Create the output data frame by transforming (assembling) the independent variables\n",
    "output_df = features.transform(df)\n",
    "output_df.show()"
   ]
  },
  {
   "cell_type": "code",
   "execution_count": 0,
   "metadata": {
    "application/vnd.databricks.v1+cell": {
     "cellMetadata": {
      "byteLimit": 2048000,
      "rowLimit": 10000
     },
     "inputWidgets": {},
     "nuid": "5135b7e9-684f-4271-a939-dd31bb7eea3d",
     "showTitle": false,
     "tableResultSettingsMap": {},
     "title": ""
    }
   },
   "outputs": [
    {
     "output_type": "stream",
     "name": "stdout",
     "output_type": "stream",
     "text": [
      "+----------+--------------------+\n|total_bill|                IndF|\n+----------+--------------------+\n|     16.99|[1.01,1.0,0.0,1.0...|\n|     10.34|(5,[0,3],[1.66,1.0])|\n|     21.01| (5,[0,3],[3.5,1.0])|\n|     23.68|(5,[0,3],[3.31,1.0])|\n|     24.59|[3.61,1.0,0.0,1.0...|\n|     25.29|(5,[0,3],[4.71,1.0])|\n|      8.77| (5,[0,3],[2.0,1.0])|\n|     26.88|(5,[0,3],[3.12,1.0])|\n|     15.04|(5,[0,3],[1.96,1.0])|\n|     14.78|(5,[0,3],[3.23,1.0])|\n|     10.27|(5,[0,3],[1.71,1.0])|\n|     35.26|[5.0,1.0,0.0,1.0,...|\n|     15.42|(5,[0,3],[1.57,1.0])|\n|     18.43| (5,[0,3],[3.0,1.0])|\n|     14.83|[3.02,1.0,0.0,1.0...|\n|     21.58|(5,[0,3],[3.92,1.0])|\n|     10.33|[1.67,1.0,0.0,1.0...|\n|     16.29|(5,[0,3],[3.71,1.0])|\n|     16.97|[3.5,1.0,0.0,1.0,...|\n|     20.65|      (5,[0],[3.35])|\n+----------+--------------------+\nonly showing top 20 rows\n\n"
     ]
    }
   ],
   "source": [
    "# Now create the final_df data frame: contains the 'total_bill' and 'IndF' column\n",
    "final_df = output_df.select(['total_bill','IndF'])\n",
    "final_df.show()"
   ]
  },
  {
   "cell_type": "code",
   "execution_count": 0,
   "metadata": {
    "application/vnd.databricks.v1+cell": {
     "cellMetadata": {
      "byteLimit": 2048000,
      "rowLimit": 10000
     },
     "inputWidgets": {},
     "nuid": "9cea167f-7d11-47eb-b745-f06e464fb206",
     "showTitle": false,
     "tableResultSettingsMap": {},
     "title": ""
    }
   },
   "outputs": [],
   "source": [
    "# Separating the final_df data into train and test part\n",
    "# Store the results in variables like train and test\n",
    "train,test = final_df.randomSplit([0.75,0.25])"
   ]
  },
  {
   "cell_type": "code",
   "execution_count": 0,
   "metadata": {
    "application/vnd.databricks.v1+cell": {
     "cellMetadata": {
      "byteLimit": 2048000,
      "rowLimit": 10000
     },
     "inputWidgets": {},
     "nuid": "f6c71e06-7991-4f74-95f0-3f6a2219ad4d",
     "showTitle": false,
     "tableResultSettingsMap": {},
     "title": ""
    }
   },
   "outputs": [],
   "source": [
    "# Import the LinearRegression object from the ml.regression module of pyspark\n",
    "from pyspark.ml.regression import LinearRegression"
   ]
  },
  {
   "cell_type": "code",
   "execution_count": 0,
   "metadata": {
    "application/vnd.databricks.v1+cell": {
     "cellMetadata": {
      "byteLimit": 2048000,
      "rowLimit": 10000
     },
     "inputWidgets": {},
     "nuid": "9d3f4c68-876d-4045-b8a5-dff308aaf094",
     "showTitle": false,
     "tableResultSettingsMap": {},
     "title": ""
    }
   },
   "outputs": [],
   "source": [
    "# Build the Linear Regression model with train set as regressor\n",
    "regressor = LinearRegression(featuresCol = 'IndF', labelCol = 'total_bill')\n",
    "\n",
    "# Fit the training data into the model using .fit() method\n",
    "regressor = regressor.fit(train)"
   ]
  },
  {
   "cell_type": "code",
   "execution_count": 0,
   "metadata": {
    "application/vnd.databricks.v1+cell": {
     "cellMetadata": {
      "byteLimit": 2048000,
      "rowLimit": 10000
     },
     "inputWidgets": {},
     "nuid": "64cf8d66-b3dc-4d07-93db-c7d16c06e955",
     "showTitle": false,
     "tableResultSettingsMap": {},
     "title": ""
    }
   },
   "outputs": [
    {
     "output_type": "stream",
     "name": "stdout",
     "output_type": "stream",
     "text": [
      "Out[37]: DenseVector([4.4388, -1.1839, 1.6141, -0.5068, -0.6902])"
     ]
    }
   ],
   "source": [
    "# Get the slopes of corresponding to each variable of 'IndF' feature\n",
    "regressor.coefficients"
   ]
  },
  {
   "cell_type": "code",
   "execution_count": 0,
   "metadata": {
    "application/vnd.databricks.v1+cell": {
     "cellMetadata": {
      "byteLimit": 2048000,
      "rowLimit": 10000
     },
     "inputWidgets": {},
     "nuid": "66ac8e36-71f5-468a-984e-369ce03695e6",
     "showTitle": false,
     "tableResultSettingsMap": {},
     "title": ""
    }
   },
   "outputs": [
    {
     "output_type": "stream",
     "name": "stdout",
     "output_type": "stream",
     "text": [
      "Out[39]: 7.014345028137183"
     ]
    }
   ],
   "source": [
    "# Get the intercept of the linear regression model\n",
    "regressor.intercept"
   ]
  },
  {
   "cell_type": "code",
   "execution_count": 0,
   "metadata": {
    "application/vnd.databricks.v1+cell": {
     "cellMetadata": {
      "byteLimit": 2048000,
      "rowLimit": 10000
     },
     "inputWidgets": {},
     "nuid": "a893a2ae-e376-4e62-9d5d-0b5dcd67ced3",
     "showTitle": false,
     "tableResultSettingsMap": {},
     "title": ""
    }
   },
   "outputs": [],
   "source": [
    "# Predicting the the results using the test data\n",
    "predictions = regressor.evaluate(test)"
   ]
  },
  {
   "cell_type": "code",
   "execution_count": 0,
   "metadata": {
    "application/vnd.databricks.v1+cell": {
     "cellMetadata": {
      "byteLimit": 2048000,
      "rowLimit": 10000
     },
     "inputWidgets": {},
     "nuid": "1824d3c7-5ea4-4657-9f9a-a1d8c1d5eea4",
     "showTitle": false,
     "tableResultSettingsMap": {},
     "title": ""
    }
   },
   "outputs": [
    {
     "output_type": "stream",
     "name": "stdout",
     "output_type": "stream",
     "text": [
      "+----------+--------------------+------------------+\n|total_bill|                IndF|        prediction|\n+----------+--------------------+------------------+\n|      7.25|[5.15,0.0,1.0,1.0...| 30.98145146723623|\n|      7.51|[2.0,0.0,0.0,2.0,...|14.188122838053774|\n|      8.58|[1.92,0.0,1.0,3.0...|14.940289817819002|\n|       9.6|[4.0,1.0,1.0,1.0,...|24.692953597036524|\n|     10.27|(5,[0,3],[1.71,1.0])|14.097870778408504|\n|     10.63|[2.0,1.0,1.0,0.0,...| 16.32217498955549|\n|     12.74|[2.01,1.0,1.0,2.0...|  14.6627349172399|\n|      13.0|[2.0,1.0,1.0,2.0,...|14.618346887680946|\n|     13.37|       (5,[0],[2.0])|15.891950939928318|\n|     13.51|[2.0,0.0,1.0,2.0,...|15.802221358600743|\n|     13.81| (5,[0,3],[2.0,1.0])|15.385123635618218|\n|     14.07| (5,[0,3],[2.5,1.0])|   17.604525113566|\n|     14.15|[2.0,1.0,0.0,2.0,...|13.004248367133975|\n|     14.31|[4.0,1.0,1.0,0.0,...| 25.19978090134662|\n|     14.52|[2.0,1.0,0.0,2.0,...|13.004248367133975|\n|     15.42|(5,[0,3],[1.57,1.0])|13.476438364583124|\n|     15.98|[3.0,1.0,0.0,3.0,...| 16.93622401871944|\n|     16.04|      (5,[0],[2.24])|16.957263649343254|\n|     16.29|(5,[0,3],[3.71,1.0])| 22.97547669019964|\n|     16.31|       (5,[0],[2.0])|15.891950939928318|\n+----------+--------------------+------------------+\nonly showing top 20 rows\n\n"
     ]
    }
   ],
   "source": [
    "# Get the predictions\n",
    "predictions.predictions.show()"
   ]
  },
  {
   "cell_type": "code",
   "execution_count": 0,
   "metadata": {
    "application/vnd.databricks.v1+cell": {
     "cellMetadata": {
      "byteLimit": 2048000,
      "rowLimit": 10000
     },
     "inputWidgets": {},
     "nuid": "541218df-2d04-4f3d-a985-7916527ec8e3",
     "showTitle": false,
     "tableResultSettingsMap": {},
     "title": ""
    }
   },
   "outputs": [
    {
     "output_type": "stream",
     "name": "stdout",
     "output_type": "stream",
     "text": [
      "The R2 value for the model is: 0.42476916588121993\nThe MAE value for the model is: 4.810615026055834\nThe MSE value for the model is: 47.144383159992714\n"
     ]
    }
   ],
   "source": [
    "# Compute the r2 value to judge the model accuracy\n",
    "print('The R2 value for the model is:', predictions.r2)\n",
    "print('The MAE value for the model is:', predictions.meanAbsoluteError)\n",
    "print('The MSE value for the model is:', predictions.meanSquaredError)"
   ]
  }
 ],
 "metadata": {
  "application/vnd.databricks.v1+notebook": {
   "dashboards": [],
   "environmentMetadata": null,
   "language": "python",
   "notebookMetadata": {
    "pythonIndentUnit": 2
   },
   "notebookName": "MLR_DataBricks_Tutorial",
   "widgets": {}
  }
 },
 "nbformat": 4,
 "nbformat_minor": 0
}
