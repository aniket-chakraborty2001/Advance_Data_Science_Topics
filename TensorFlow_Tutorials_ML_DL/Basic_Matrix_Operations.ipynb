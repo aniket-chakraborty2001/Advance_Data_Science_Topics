{
  "nbformat": 4,
  "nbformat_minor": 0,
  "metadata": {
    "colab": {
      "provenance": []
    },
    "kernelspec": {
      "name": "python3",
      "display_name": "Python 3"
    },
    "language_info": {
      "name": "python"
    }
  },
  "cells": [
    {
      "cell_type": "code",
      "execution_count": 1,
      "metadata": {
        "id": "AFZPGb4dShRr"
      },
      "outputs": [],
      "source": [
        "# Importing Numpy library for matrix operations\n",
        "import numpy as np"
      ]
    },
    {
      "cell_type": "code",
      "source": [
        "# Defining two matrices revenue and expenses as numpy arrays\n",
        "revenue = np.array([[180,200,220],[24,36,40],[12,18,20]])\n",
        "expenses = np.array([[80,90,100],[10,16,20],[8,10,10]])"
      ],
      "metadata": {
        "id": "mOc9az_ASuOR"
      },
      "execution_count": 2,
      "outputs": []
    },
    {
      "cell_type": "code",
      "source": [
        "# Calculate the profit\n",
        "profit = revenue - expenses\n",
        "profit"
      ],
      "metadata": {
        "colab": {
          "base_uri": "https://localhost:8080/"
        },
        "id": "r3Df0_KkTQNq",
        "outputId": "5463f2ed-ec08-4591-92d4-8d02f557edfa"
      },
      "execution_count": 3,
      "outputs": [
        {
          "output_type": "execute_result",
          "data": {
            "text/plain": [
              "array([[100, 110, 120],\n",
              "       [ 14,  20,  20],\n",
              "       [  4,   8,  10]])"
            ]
          },
          "metadata": {},
          "execution_count": 3
        }
      ]
    },
    {
      "cell_type": "code",
      "source": [
        "# Calculate the total sales in FY2018, FY2019 and FY2020, when total unit sold and price of each unit is given\n",
        "price_per_unit = np.array([1000,400,1200])\n",
        "unit_sold = np.array([[30,40,50],[5,10,15],[2,5,7]])\n",
        "\n",
        "# Calculate the sales of FYs\n",
        "sales = np.dot(price_per_unit, unit_sold)\n",
        "sales"
      ],
      "metadata": {
        "colab": {
          "base_uri": "https://localhost:8080/"
        },
        "id": "uqikws9BTjBn",
        "outputId": "2107830e-0751-4bb0-d314-dd254a025fa4"
      },
      "execution_count": 4,
      "outputs": [
        {
          "output_type": "execute_result",
          "data": {
            "text/plain": [
              "array([34400, 50000, 64400])"
            ]
          },
          "metadata": {},
          "execution_count": 4
        }
      ]
    }
  ]
}