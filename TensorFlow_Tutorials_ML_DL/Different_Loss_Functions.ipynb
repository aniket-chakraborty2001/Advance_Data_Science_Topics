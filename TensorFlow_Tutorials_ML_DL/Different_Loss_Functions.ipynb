{
  "nbformat": 4,
  "nbformat_minor": 0,
  "metadata": {
    "colab": {
      "provenance": []
    },
    "kernelspec": {
      "name": "python3",
      "display_name": "Python 3"
    },
    "language_info": {
      "name": "python"
    }
  },
  "cells": [
    {
      "cell_type": "code",
      "execution_count": 1,
      "metadata": {
        "id": "gNHzMUVDZoEY"
      },
      "outputs": [],
      "source": [
        "# Importing Numpy library\n",
        "import numpy as np"
      ]
    },
    {
      "cell_type": "code",
      "source": [
        "# Define the predicted and actual values\n",
        "y_pred = np.array([1,0,1,1,0,0,1,0,1,1])\n",
        "y_actual = np.array([0.35,0.005,0.54,0.63,0.1,0.87,0.33,0.18,0.36,0.28])"
      ],
      "metadata": {
        "id": "alcRv7gEZxJ4"
      },
      "execution_count": 2,
      "outputs": []
    },
    {
      "cell_type": "markdown",
      "source": [
        "### Mean Absolute Error (MAE) Formula\n",
        "\n",
        "$$\n",
        "\\text{MAE} = \\frac{1}{n} \\sum_{i=1}^n |y_i - \\hat{y}_i|\n",
        "$$"
      ],
      "metadata": {
        "id": "b9KYXrZNaQcY"
      }
    },
    {
      "cell_type": "code",
      "source": [
        "# Calculating the Mean Absolute Error by defining the 'mae' function\n",
        "def mae(y_actual, y_pred):\n",
        "  abs_error = np.abs(y_actual - y_pred)\n",
        "  loss = np.sum(abs_error)\n",
        "  cost = np.mean(abs_error)\n",
        "  return loss, cost\n",
        "\n",
        "# Find the Mean Absolute Error for the pre-defined y_pred and y_actual\n",
        "loss, cost = mae(y_actual, y_pred)\n",
        "print('The total loss is:', loss)\n",
        "print('The MAE cost is:', cost)"
      ],
      "metadata": {
        "colab": {
          "base_uri": "https://localhost:8080/"
        },
        "id": "JI3Av7fzaIg1",
        "outputId": "42be2c88-c96f-4ce7-aae1-e9694957d3e0"
      },
      "execution_count": 24,
      "outputs": [
        {
          "output_type": "stream",
          "name": "stdout",
          "text": [
            "The total loss is: 4.665\n",
            "The MAE cost is: 0.4665\n"
          ]
        }
      ]
    },
    {
      "cell_type": "markdown",
      "source": [
        "### Mean Squared Error (MSE) Formula\n",
        "\n",
        "$$\n",
        "\\text{MAE} = \\frac{1}{n} \\sum_{i=1}^n (y_i - \\hat{y}_i)^2\n",
        "$$"
      ],
      "metadata": {
        "id": "b00wrFQCdm6p"
      }
    },
    {
      "cell_type": "code",
      "source": [
        "# Calculating the Mean Squared Error by defining the 'mse' function\n",
        "def mse(y_actual, y_pred):\n",
        "  squared_error = (y_actual - y_pred)**2\n",
        "  loss = np.sum(squared_error)\n",
        "  cost = np.mean(squared_error)\n",
        "  return loss, cost\n",
        "\n",
        "# Find the Mean Absolute Error for the pre-defined y_pred and y_actual\n",
        "loss, cost = mse(y_actual, y_pred)\n",
        "print('The total loss is:', loss)\n",
        "print('The MAE cost is:', cost)"
      ],
      "metadata": {
        "colab": {
          "base_uri": "https://localhost:8080/"
        },
        "id": "Lty0WTuJbrww",
        "outputId": "fe298f4e-67fe-4d9a-cb3a-32c6d5f0c54b"
      },
      "execution_count": 25,
      "outputs": [
        {
          "output_type": "stream",
          "name": "stdout",
          "text": [
            "The total loss is: 2.9472250000000004\n",
            "The MAE cost is: 0.29472250000000005\n"
          ]
        }
      ]
    },
    {
      "cell_type": "markdown",
      "source": [
        "### The log loss or the Binary cross entropy loss formula is given as\n",
        "\n",
        "$$\n",
        "-\\frac{1}{n} \\sum_{i=1}^n \\left[ y_i \\log(\\hat{y}_i) + (1 - y_i) \\log(1 - \\hat{y}_i) \\right]\n",
        "$$\n",
        "\n",
        "Since, log(0) is undefined, so whenever, the y_pred is 1, it will be problematic as (1-y_pred) will always be 0. Hence, we need to fix another variable called epsilon\n",
        "\n",
        "So, whenever, we will observe y_pred to be 0, we will replace it by eplison. We will not touch the value of 1. Suppose epsilon as 1e-15\n",
        "\n",
        "Similarly, replace the 1's in the y_pred_new with a value which is bery close to 1, but not exactly 1\n"
      ],
      "metadata": {
        "id": "49g2SJcwfSoD"
      }
    },
    {
      "cell_type": "code",
      "source": [
        "# Fixing the epsilon value as e\n",
        "e = 1e-15\n",
        "\n",
        "# Creating the new y_pred as y_pred_new in which only the 0's are replaced by e\n",
        "y_pred_new = [max(val, e) for val in y_pred]\n",
        "y_pred_new\n",
        "\n",
        "# Replacing the 1's in the y_pred_new\n",
        "y_pred_new = [min(val, 1-e) for val in y_pred_new]\n",
        "y_pred_new"
      ],
      "metadata": {
        "colab": {
          "base_uri": "https://localhost:8080/"
        },
        "id": "JwqdCRnYenXW",
        "outputId": "7a3a0d44-559e-4e0f-984c-b0a9b711babb"
      },
      "execution_count": 19,
      "outputs": [
        {
          "output_type": "execute_result",
          "data": {
            "text/plain": [
              "[0.999999999999999,\n",
              " 1e-15,\n",
              " 0.999999999999999,\n",
              " 0.999999999999999,\n",
              " 1e-15,\n",
              " 1e-15,\n",
              " 0.999999999999999,\n",
              " 1e-15,\n",
              " 0.999999999999999,\n",
              " 0.999999999999999]"
            ]
          },
          "metadata": {},
          "execution_count": 19
        }
      ]
    },
    {
      "cell_type": "code",
      "source": [
        "# Convert the predicted values into an array\n",
        "y_pred_new = np.array(y_pred_new)\n",
        "y_pred_new"
      ],
      "metadata": {
        "colab": {
          "base_uri": "https://localhost:8080/"
        },
        "id": "Fgi4b2n9hyG5",
        "outputId": "7b51a16f-042a-488d-ac1a-263a5357b7fe"
      },
      "execution_count": 20,
      "outputs": [
        {
          "output_type": "execute_result",
          "data": {
            "text/plain": [
              "array([1.e+00, 1.e-15, 1.e+00, 1.e+00, 1.e-15, 1.e-15, 1.e+00, 1.e-15,\n",
              "       1.e+00, 1.e+00])"
            ]
          },
          "metadata": {},
          "execution_count": 20
        }
      ]
    },
    {
      "cell_type": "code",
      "source": [
        "# Calculate the logarithmic values of y_pred_new and y_actual for using in the logloss function\n",
        "y_pred_log2 = np.log(1 - y_pred_new)\n",
        "y_pred_new_log = np.log(y_pred_new)"
      ],
      "metadata": {
        "id": "IYZ_2DWnjY8L"
      },
      "execution_count": 22,
      "outputs": []
    },
    {
      "cell_type": "markdown",
      "source": [
        "### Remembering the Formula of Log loss\n",
        "\n",
        "$$\n",
        "-\\frac{1}{n} \\sum_{i=1}^n \\left[ y_i \\log(\\hat{y}_i) + (1 - y_i) \\log(1 - \\hat{y}_i) \\right]\n",
        "$$"
      ],
      "metadata": {
        "id": "gyfC_fPjjwJm"
      }
    },
    {
      "cell_type": "code",
      "source": [
        "log_error = [(y_actual * y_pred_new_log) + ((1 - y_actual) * y_pred_log2)]\n",
        "log_error"
      ],
      "metadata": {
        "colab": {
          "base_uri": "https://localhost:8080/"
        },
        "id": "WX1fxjxmlqOC",
        "outputId": "563aeddc-96bc-4097-ff49-9edb71231592"
      },
      "execution_count": 29,
      "outputs": [
        {
          "output_type": "execute_result",
          "data": {
            "text/plain": [
              "[array([-22.4507244 ,  -0.17269388, -15.88820496, -12.77964312,\n",
              "         -3.45387764, -30.04873546, -23.14151591,  -6.21697975,\n",
              "        -22.10532864, -24.86849471])]"
            ]
          },
          "metadata": {},
          "execution_count": 29
        }
      ]
    },
    {
      "cell_type": "code",
      "source": [
        "# Calculating the Log loss Error by defining the 'logloss' function\n",
        "def logloss(y_actual, y_pred):\n",
        "  log_error = [(y_actual * y_pred_new_log) + ((1 - y_actual) * y_pred_log2)]\n",
        "  loss = np.sum(log_error)\n",
        "  cost = -np.mean(log_error)\n",
        "  return loss, cost\n",
        "\n",
        "# Find the Mean Absolute Error for the pre-defined y_pred and y_actual\n",
        "loss, cost = logloss(y_actual, y_pred_new)\n",
        "print('The total loss is:', loss)\n",
        "print('The MAE cost is:', cost)"
      ],
      "metadata": {
        "colab": {
          "base_uri": "https://localhost:8080/"
        },
        "id": "FPw5NYrhi6p-",
        "outputId": "24779cc8-ab63-4b6d-9573-95fdda9f016a"
      },
      "execution_count": 30,
      "outputs": [
        {
          "output_type": "stream",
          "name": "stdout",
          "text": [
            "The total loss is: -161.12619846923832\n",
            "The MAE cost is: 16.11261984692383\n"
          ]
        }
      ]
    }
  ]
}